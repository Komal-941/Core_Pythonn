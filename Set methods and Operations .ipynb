{
 "cells": [
  {
   "cell_type": "markdown",
   "id": "acd6cd46-d688-4f54-ba6f-e031707d7059",
   "metadata": {},
   "source": [
    "# Set Methods"
   ]
  },
  {
   "cell_type": "markdown",
   "id": "78eaac02-b240-4fc0-b246-3ed1785af4fc",
   "metadata": {},
   "source": [
    "**1.set.add()** \n",
    "- add a single value only "
   ]
  },
  {
   "cell_type": "code",
   "execution_count": 1,
   "id": "45566fec-81cf-439e-9b22-d48d1cb7f9eb",
   "metadata": {},
   "outputs": [
    {
     "name": "stdout",
     "output_type": "stream",
     "text": [
      "{1, 2.5, 3, 2, 4, 5, 7, 89, 'Komal'}\n"
     ]
    }
   ],
   "source": [
    "s ={1, 2, 2.5, 3, 4, 'Komal', 5, 7}  \n",
    "s.add(89)\n",
    "print(s)"
   ]
  },
  {
   "cell_type": "code",
   "execution_count": 2,
   "id": "94675470-94c4-43d2-ac42-1e3fbae39711",
   "metadata": {},
   "outputs": [
    {
     "name": "stdout",
     "output_type": "stream",
     "text": [
      "{1, 2.5, 3, 2, 4, 5, 7, 'Shelar', 89, 'Komal'}\n"
     ]
    }
   ],
   "source": [
    "s.add(\"Shelar\")\n",
    "print(s)"
   ]
  },
  {
   "cell_type": "markdown",
   "id": "6e767894-67df-4392-abce-731a83622d1b",
   "metadata": {},
   "source": [
    "**2.set.update()** \n",
    "- adds muliple values"
   ]
  },
  {
   "cell_type": "code",
   "execution_count": 24,
   "id": "27beb00d-4835-40df-a5d0-edaa2dbe8252",
   "metadata": {},
   "outputs": [
    {
     "name": "stdout",
     "output_type": "stream",
     "text": [
      "{False, 1, 2, 4, 8.4, 23, 'Shelar'}\n"
     ]
    }
   ],
   "source": [
    "s ={1, 2, 4, }                           #whille assigning multiple items need to assign them in a list \n",
    "s.update([\"Shelar\", False , 8.4, 23])\n",
    "print(s)"
   ]
  },
  {
   "cell_type": "markdown",
   "id": "604c24ef-2dc8-472b-90d1-d7b445c57620",
   "metadata": {},
   "source": [
    "**3.set.discard()** \n",
    "- used to removing particular value\n",
    "- if mentioned value is out of set ; will show the set as it is"
   ]
  },
  {
   "cell_type": "code",
   "execution_count": 25,
   "id": "b2188477-8b5d-405d-a3db-6cd7992b045f",
   "metadata": {},
   "outputs": [
    {
     "name": "stdout",
     "output_type": "stream",
     "text": [
      "{1, 2.5, 3, 2, 4, 'Komal', 7, 8}\n"
     ]
    }
   ],
   "source": [
    "s ={1, 2, 2.5, 3, 4, 7,8, \"Komal\"} \n",
    "s.discard(\"Shelar\")\n",
    "print(s)"
   ]
  },
  {
   "cell_type": "markdown",
   "id": "66c220e2-d2f6-495a-b599-12bbc2947a8c",
   "metadata": {},
   "source": [
    "**4.set.remove()** \n",
    "- used to removing perticular value\n",
    "- if mentioned value is out of set ; will show the error."
   ]
  },
  {
   "cell_type": "code",
   "execution_count": 29,
   "id": "e521e8fb-8097-45d2-85f7-3e6981445ff3",
   "metadata": {},
   "outputs": [
    {
     "name": "stdout",
     "output_type": "stream",
     "text": [
      "{1, 2.5, 3, 2, 4, 5, 7}\n"
     ]
    }
   ],
   "source": [
    "s ={1, 2, 2.5, 3, 4, 'Komal', 5, 7} \n",
    "s.remove(\"Komal\")\n",
    "print(s)"
   ]
  },
  {
   "cell_type": "markdown",
   "id": "97b11f90-9b93-4fa0-888b-790d2bb35701",
   "metadata": {},
   "source": [
    "**5.set.clear()** "
   ]
  },
  {
   "cell_type": "code",
   "execution_count": 39,
   "id": "f5c26f83-1659-4c03-9fc1-d8f02309f28e",
   "metadata": {},
   "outputs": [],
   "source": [
    "s ={1, 2, 2.5, 3, 4, 'Komal', 5, 7} \n",
    "del s"
   ]
  },
  {
   "cell_type": "markdown",
   "id": "f537858b-8574-40f7-a9d1-f085746be587",
   "metadata": {},
   "source": [
    "**6.set.copy()** \n",
    "- will copy the object as a shell means, we can dupliacte but the changes in second object will not affect on first \n",
    "- it create the sep object after copy. "
   ]
  },
  {
   "cell_type": "code",
   "execution_count": 45,
   "id": "169f57a3-ef30-46ea-8b90-beb31ac8b0f1",
   "metadata": {},
   "outputs": [
    {
     "name": "stdout",
     "output_type": "stream",
     "text": [
      "2883241567264\n",
      "{1, 2.5, 3, 2, 4, 'Komal', 5, 7}\n",
      "2883241565472\n"
     ]
    }
   ],
   "source": [
    "original_object ={1, 2, 2.5, 3, 4, 'Komal', 5, 7} \n",
    "print(id(original_object))\n",
    "new_object = s.copy()\n",
    "print(new_object) \n",
    "print(id(new_object))"
   ]
  },
  {
   "cell_type": "code",
   "execution_count": 46,
   "id": "a0165b92-7ebf-4e2d-8e34-278b7cb62276",
   "metadata": {},
   "outputs": [
    {
     "name": "stdout",
     "output_type": "stream",
     "text": [
      "{1, 2.5, 3, 2, 4, 'Komal', 5, 7, 23}\n"
     ]
    }
   ],
   "source": [
    "new_object.add(23)              # will ad the value in new object only \n",
    "print(new_object)"
   ]
  },
  {
   "cell_type": "code",
   "execution_count": 47,
   "id": "8063e23e-19e6-4af0-bd61-72413c99a0cb",
   "metadata": {},
   "outputs": [
    {
     "name": "stdout",
     "output_type": "stream",
     "text": [
      "{1, 2.5, 3, 2, 4, 'Komal', 5, 7}\n"
     ]
    }
   ],
   "source": [
    "print(original_object)                 # original object will remain the same"
   ]
  },
  {
   "cell_type": "markdown",
   "id": "d102bd89-65c4-4017-b069-519f911cc113",
   "metadata": {},
   "source": [
    "# Set Operations"
   ]
  },
  {
   "cell_type": "markdown",
   "id": "1dd0a52e-b9c9-4526-84c9-ad0469bf9866",
   "metadata": {},
   "source": [
    "**1.set.union()** \n",
    "- just concetanation it will add the elements of set but not using + sign\n",
    "- unique elemts will considered only not the duplicate ones"
   ]
  },
  {
   "cell_type": "code",
   "execution_count": 49,
   "id": "fab20311-8b3e-489c-be76-5507fba01264",
   "metadata": {},
   "outputs": [
    {
     "name": "stdout",
     "output_type": "stream",
     "text": [
      "{2, 4, 5, 6, 7, 8}\n"
     ]
    }
   ],
   "source": [
    "a ={2,4,6,8} \n",
    "b = {4,5,6,7,8} \n",
    "c= a.union(b) \n",
    "print(c)"
   ]
  },
  {
   "cell_type": "markdown",
   "id": "5f877974-7354-4cca-b126-185207a1b21e",
   "metadata": {},
   "source": [
    "**2.set.intersection()** \n",
    "- it will create a new objcet with  common elements of both set\n",
    "- items will consider for onces only."
   ]
  },
  {
   "cell_type": "code",
   "execution_count": 3,
   "id": "0ab40ecd-7b44-4357-975e-c3c6109273e1",
   "metadata": {},
   "outputs": [
    {
     "name": "stdout",
     "output_type": "stream",
     "text": [
      "{8, 4, 6}\n"
     ]
    }
   ],
   "source": [
    "a ={2,4,6,8} \n",
    "b = {4,5,6,7,8} \n",
    "c= a.intersection(b) \n",
    "print(c)"
   ]
  },
  {
   "cell_type": "markdown",
   "id": "ba2c961b-c265-4e4a-8b9d-aa8aa14375d2",
   "metadata": {},
   "source": [
    "**3.set.isdisjoint()** \n",
    "- returns boolean value if set are having intersection or not. (common elements in between)\n",
    "- no intersection --> True\n",
    "- intersection --> false"
   ]
  },
  {
   "cell_type": "code",
   "execution_count": 53,
   "id": "2031c251-c692-46ca-a3dc-fc9eaade257a",
   "metadata": {},
   "outputs": [
    {
     "data": {
      "text/plain": [
       "False"
      ]
     },
     "execution_count": 53,
     "metadata": {},
     "output_type": "execute_result"
    }
   ],
   "source": [
    "s1 ={1,2,3}\n",
    "s2 = {2,3,4,5}\n",
    "s3={1,7,8,9} \n",
    "\n",
    "s1.isdisjoint(s2)"
   ]
  },
  {
   "cell_type": "code",
   "execution_count": 54,
   "id": "8a937980-847d-4e52-82c5-36aaa7a9b61a",
   "metadata": {},
   "outputs": [
    {
     "data": {
      "text/plain": [
       "True"
      ]
     },
     "execution_count": 54,
     "metadata": {},
     "output_type": "execute_result"
    }
   ],
   "source": [
    "s2.isdisjoint(s3)"
   ]
  },
  {
   "cell_type": "code",
   "execution_count": 55,
   "id": "ae79c4a7-e26e-47c9-b8fb-12da0f77f799",
   "metadata": {},
   "outputs": [
    {
     "data": {
      "text/plain": [
       "False"
      ]
     },
     "execution_count": 55,
     "metadata": {},
     "output_type": "execute_result"
    }
   ],
   "source": [
    "s1.isdisjoint(s3)"
   ]
  },
  {
   "cell_type": "markdown",
   "id": "cebbc30c-c2db-42c0-a41a-2a164b854785",
   "metadata": {},
   "source": [
    "**4.set.difference()** \n",
    "\n",
    "- if there are comon elements between two sets and we wanna remove a common element from any one set"
   ]
  },
  {
   "cell_type": "code",
   "execution_count": 62,
   "id": "3e0d258d-91b2-453a-ba0e-a923143bba29",
   "metadata": {},
   "outputs": [
    {
     "name": "stdout",
     "output_type": "stream",
     "text": [
      "{1}\n",
      "{4, 5}\n"
     ]
    }
   ],
   "source": [
    "s1 ={1,2,3}\n",
    "s2 = {2,3,4,5}\n",
    "\n",
    "print(s1-s2)\n",
    "print(s2-s1)"
   ]
  },
  {
   "cell_type": "code",
   "execution_count": 63,
   "id": "5a4d95b9-b094-485e-9166-741043b44a40",
   "metadata": {},
   "outputs": [
    {
     "name": "stdout",
     "output_type": "stream",
     "text": [
      "{1, 6}\n",
      "{8, 7}\n"
     ]
    }
   ],
   "source": [
    "s1 ={1,2,3,5,6}\n",
    "s2 = {2,3,5,7,8}\n",
    "\n",
    "print(s1-s2)\n",
    "print(s2-s1)"
   ]
  },
  {
   "cell_type": "markdown",
   "id": "d021bbb5-f04f-4433-8869-7f4660b50169",
   "metadata": {},
   "source": [
    "**4.set.symmetric_difference()** \n",
    "\n",
    "- returns new set of the element that are either of sets, but not in both (eleminate the common one )"
   ]
  },
  {
   "cell_type": "code",
   "execution_count": 67,
   "id": "ec2e98db-818a-44bd-b4bd-63b888259f1b",
   "metadata": {},
   "outputs": [
    {
     "data": {
      "text/plain": [
       "{1, 6, 7, 8}"
      ]
     },
     "execution_count": 67,
     "metadata": {},
     "output_type": "execute_result"
    }
   ],
   "source": [
    "s1 ={1,2,3,5,6}\n",
    "s2 = {2,3,5,7,8}\n",
    "\n",
    "s1.symmetric_difference(s2)"
   ]
  },
  {
   "cell_type": "code",
   "execution_count": 69,
   "id": "73539618-ee17-4bd6-aed3-1ec0f28f62b1",
   "metadata": {},
   "outputs": [
    {
     "name": "stdout",
     "output_type": "stream",
     "text": [
      "{1, 2, 3, 5, 6}\n",
      "{2, 3, 5, 7, 8}\n"
     ]
    }
   ],
   "source": [
    "s1 ={1,2,3,5,6}\n",
    "s2 = {2,3,5,7,8}\n",
    "print(s1)\n",
    "print(s2)"
   ]
  },
  {
   "cell_type": "code",
   "execution_count": 70,
   "id": "6119b1b4-8a7c-478f-bd6f-822e4a7f87bd",
   "metadata": {},
   "outputs": [
    {
     "data": {
      "text/plain": [
       "{1, 4, 6, 7, 8}"
      ]
     },
     "execution_count": 70,
     "metadata": {},
     "output_type": "execute_result"
    }
   ],
   "source": [
    "s1.union(b) - s1.intersection(s2)"
   ]
  },
  {
   "cell_type": "markdown",
   "id": "f9c42ae1-defa-483e-98f5-4c8ff38a4321",
   "metadata": {},
   "source": [
    "**5.issubset()**\n",
    "- if all values in set1 are present in set2 then set1 is called as sub set  and set2 is super set.\n",
    "- each value should be there in second set.\n",
    "- if one set is subset other is superset always. but if there is no sub set then superset is also not there."
   ]
  },
  {
   "cell_type": "code",
   "execution_count": 71,
   "id": "02ed392e-6d03-4e47-9323-a73fd8761fe3",
   "metadata": {},
   "outputs": [
    {
     "name": "stdout",
     "output_type": "stream",
     "text": [
      "True\n",
      "False\n"
     ]
    }
   ],
   "source": [
    "s1 ={2,3,5}\n",
    "s2 = {2,3,5,7,8} \n",
    "\n",
    "ans1 = s1.issubset(s2)\n",
    "print(ans1) \n",
    "\n",
    "ans2 = s2.issubset(s1)\n",
    "print(ans2)"
   ]
  },
  {
   "cell_type": "markdown",
   "id": "c67a76f5-cc95-440e-9558-1a219c024440",
   "metadata": {},
   "source": [
    "**5.issuperset()**\n",
    "- if all values in set1 are present in set2 then set1 is called as sub set  and set2 is super set.\n",
    "- each value should be there in second set.\n",
    "- if one set is subset other is superset always. but if there is no sub set then superset is also not there."
   ]
  },
  {
   "cell_type": "code",
   "execution_count": 72,
   "id": "0d2c2eeb-3992-4434-8ebd-589c6b99b170",
   "metadata": {},
   "outputs": [
    {
     "name": "stdout",
     "output_type": "stream",
     "text": [
      "False\n",
      "True\n"
     ]
    }
   ],
   "source": [
    "s1 ={2,3,5}\n",
    "s2 = {2,3,5,7,8} \n",
    "\n",
    "ans1 = s1.issuperset(s2)\n",
    "print(ans1) \n",
    "\n",
    "ans2 = s2.issuperset(s1)\n",
    "print(ans2)"
   ]
  },
  {
   "cell_type": "code",
   "execution_count": null,
   "id": "f218dbf3-7dbc-4766-b2fd-448fba2826bf",
   "metadata": {},
   "outputs": [],
   "source": []
  }
 ],
 "metadata": {
  "kernelspec": {
   "display_name": "Python 3 (ipykernel)",
   "language": "python",
   "name": "python3"
  },
  "language_info": {
   "codemirror_mode": {
    "name": "ipython",
    "version": 3
   },
   "file_extension": ".py",
   "mimetype": "text/x-python",
   "name": "python",
   "nbconvert_exporter": "python",
   "pygments_lexer": "ipython3",
   "version": "3.12.4"
  }
 },
 "nbformat": 4,
 "nbformat_minor": 5
}
