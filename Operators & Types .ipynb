{
 "cells": [
  {
   "cell_type": "markdown",
   "id": "ec010656-3f9f-4bd7-9bd3-1a7ee2acd1da",
   "metadata": {},
   "source": [
    "# operator\n",
    "- it is keyword or special symbol that perfoms operation on values & variables\n",
    "\n",
    "**Types of Operators**\n",
    "- Arithmetic Operator\n",
    "- Assignment Operator\n",
    "- Comparison(Relational) Operator\n",
    "- Logical Operator\n",
    "- Membership Operator\n",
    "- Identity Operator"
   ]
  },
  {
   "cell_type": "markdown",
   "id": "3ff3ae82-709c-46f6-8b9a-e9e8493cde41",
   "metadata": {},
   "source": [
    "**1. Arithmetic Operator**\n",
    "- use to perform mathematical operation\n",
    "- +, _ , * , / , %(moduluo) , //(floor divison) , **(exponents)"
   ]
  },
  {
   "cell_type": "code",
   "execution_count": 1,
   "id": "72a736e5-adcf-4639-8840-85a0e9295e47",
   "metadata": {},
   "outputs": [
    {
     "data": {
      "text/plain": [
       "12"
      ]
     },
     "execution_count": 1,
     "metadata": {},
     "output_type": "execute_result"
    }
   ],
   "source": [
    "7+5"
   ]
  },
  {
   "cell_type": "code",
   "execution_count": 2,
   "id": "b4b2630c-b1f2-419b-ba2f-e7380dec130e",
   "metadata": {},
   "outputs": [
    {
     "data": {
      "text/plain": [
       "-1"
      ]
     },
     "execution_count": 2,
     "metadata": {},
     "output_type": "execute_result"
    }
   ],
   "source": [
    "4-5"
   ]
  },
  {
   "cell_type": "code",
   "execution_count": 3,
   "id": "2b794401-e402-4369-ad5f-6e0459f9560e",
   "metadata": {},
   "outputs": [
    {
     "data": {
      "text/plain": [
       "27"
      ]
     },
     "execution_count": 3,
     "metadata": {},
     "output_type": "execute_result"
    }
   ],
   "source": [
    "3*9"
   ]
  },
  {
   "cell_type": "code",
   "execution_count": 4,
   "id": "f51afa41-fbbb-486a-85a9-225e930fab4a",
   "metadata": {},
   "outputs": [
    {
     "data": {
      "text/plain": [
       "3.0"
      ]
     },
     "execution_count": 4,
     "metadata": {},
     "output_type": "execute_result"
    }
   ],
   "source": [
    "6/2   # div : always gives output in float "
   ]
  },
  {
   "cell_type": "code",
   "execution_count": 3,
   "id": "6500203f-eb48-4e7f-a882-b1a1d676f3ce",
   "metadata": {},
   "outputs": [
    {
     "data": {
      "text/plain": [
       "2"
      ]
     },
     "execution_count": 3,
     "metadata": {},
     "output_type": "execute_result"
    }
   ],
   "source": [
    "9//4 #floor div: gives the quotient value ; here  9 is divident and 4 is divisor ; 2 is quotient and  1 is remaining value "
   ]
  },
  {
   "cell_type": "code",
   "execution_count": 6,
   "id": "1ce455c6-b758-410c-b27b-833bcd19d626",
   "metadata": {},
   "outputs": [
    {
     "data": {
      "text/plain": [
       "1"
      ]
     },
     "execution_count": 6,
     "metadata": {},
     "output_type": "execute_result"
    }
   ],
   "source": [
    "9%4  # Modulo : it gives the remainder"
   ]
  },
  {
   "cell_type": "code",
   "execution_count": 7,
   "id": "54b99a3c-3f43-4bd1-880b-0330c54f8b3d",
   "metadata": {},
   "outputs": [
    {
     "data": {
      "text/plain": [
       "4"
      ]
     },
     "execution_count": 7,
     "metadata": {},
     "output_type": "execute_result"
    }
   ],
   "source": [
    "2**2   #exponent : to calculate the power like square , cube, forth root"
   ]
  },
  {
   "cell_type": "code",
   "execution_count": 11,
   "id": "c7f6c911-83fa-464c-b63c-faeae8812c13",
   "metadata": {},
   "outputs": [
    {
     "data": {
      "text/plain": [
       "40"
      ]
     },
     "execution_count": 11,
     "metadata": {},
     "output_type": "execute_result"
    }
   ],
   "source": [
    "(5*8)    #paranthesis"
   ]
  },
  {
   "cell_type": "markdown",
   "id": "6299e638-89cc-4f26-8f9b-dc95e4cfcf40",
   "metadata": {},
   "source": [
    "**in the arithmetic operation, the boolean values automatically coverts to int i.e, True = 1 , False = 0**"
   ]
  },
  {
   "cell_type": "code",
   "execution_count": 11,
   "id": "5d42c35e-6d59-4466-ae2f-0e0e17f33b8b",
   "metadata": {},
   "outputs": [
    {
     "data": {
      "text/plain": [
       "2"
      ]
     },
     "execution_count": 11,
     "metadata": {},
     "output_type": "execute_result"
    }
   ],
   "source": [
    "True + True"
   ]
  },
  {
   "cell_type": "code",
   "execution_count": 12,
   "id": "eb5ea29e-882e-446a-8414-f4521678dd4f",
   "metadata": {},
   "outputs": [
    {
     "data": {
      "text/plain": [
       "0"
      ]
     },
     "execution_count": 12,
     "metadata": {},
     "output_type": "execute_result"
    }
   ],
   "source": [
    "False + False "
   ]
  },
  {
   "cell_type": "markdown",
   "id": "8f3bc5f6-0825-4405-b453-7a3c3f0c7003",
   "metadata": {},
   "source": [
    "**2.Assignment Operator**\n",
    "- used to assign the value to variables\n",
    "- = , += , -= , /= , %= , //= , **=\n",
    "- RHS will execute first and the LHS"
   ]
  },
  {
   "cell_type": "code",
   "execution_count": 24,
   "id": "684386cb-56f7-4221-ab8d-5a9c41f59a5e",
   "metadata": {},
   "outputs": [
    {
     "name": "stdout",
     "output_type": "stream",
     "text": [
      "9\n"
     ]
    }
   ],
   "source": [
    "y= 5\n",
    "y= y+4\n",
    "print(y)"
   ]
  },
  {
   "cell_type": "code",
   "execution_count": 25,
   "id": "e4508125-1a7d-46b8-8e2f-baac7bab2c2d",
   "metadata": {},
   "outputs": [
    {
     "name": "stdout",
     "output_type": "stream",
     "text": [
      "9\n"
     ]
    }
   ],
   "source": [
    "y=5\n",
    "y+=4\n",
    "print(y)"
   ]
  },
  {
   "cell_type": "code",
   "execution_count": 26,
   "id": "c967310b-c42f-44eb-9719-bf11de043fe3",
   "metadata": {},
   "outputs": [
    {
     "name": "stdout",
     "output_type": "stream",
     "text": [
      "40\n"
     ]
    }
   ],
   "source": [
    "y=10\n",
    "y*=4\n",
    "print(y)"
   ]
  },
  {
   "cell_type": "code",
   "execution_count": 27,
   "id": "f6b3cdee-e63f-4435-a488-49c9c2b461bc",
   "metadata": {},
   "outputs": [
    {
     "name": "stdout",
     "output_type": "stream",
     "text": [
      "2.5\n"
     ]
    }
   ],
   "source": [
    "y=10\n",
    "y/=4\n",
    "print(y)"
   ]
  },
  {
   "cell_type": "code",
   "execution_count": 30,
   "id": "b50f6455-c7f1-4ee2-8fd5-ee1c836468d2",
   "metadata": {},
   "outputs": [
    {
     "name": "stdout",
     "output_type": "stream",
     "text": [
      "36\n"
     ]
    }
   ],
   "source": [
    "y=6\n",
    "y**=2\n",
    "print(y)"
   ]
  },
  {
   "cell_type": "markdown",
   "id": "60f6f871-4a4f-49f7-bbca-74597eb2b186",
   "metadata": {},
   "source": [
    "**3.Comparison(Relational) Operator**\n",
    "- It gives o/p as bolean only (True or False)\n",
    "- Used to compare two values only not the data \n",
    "- ==(equal to), !=(not equal to), >, < , <= , >="
   ]
  },
  {
   "cell_type": "code",
   "execution_count": 31,
   "id": "d172cdf8-625f-415f-9b0c-dc13a8154491",
   "metadata": {},
   "outputs": [
    {
     "data": {
      "text/plain": [
       "True"
      ]
     },
     "execution_count": 31,
     "metadata": {},
     "output_type": "execute_result"
    }
   ],
   "source": [
    "5==5"
   ]
  },
  {
   "cell_type": "code",
   "execution_count": 32,
   "id": "51eea896-2973-4a21-821e-219a74ca7616",
   "metadata": {},
   "outputs": [
    {
     "data": {
      "text/plain": [
       "False"
      ]
     },
     "execution_count": 32,
     "metadata": {},
     "output_type": "execute_result"
    }
   ],
   "source": [
    "5==3"
   ]
  },
  {
   "cell_type": "code",
   "execution_count": 33,
   "id": "5946756c-e521-45f0-8390-7d4862679033",
   "metadata": {},
   "outputs": [
    {
     "data": {
      "text/plain": [
       "False"
      ]
     },
     "execution_count": 33,
     "metadata": {},
     "output_type": "execute_result"
    }
   ],
   "source": [
    "5!=5   #as they r same values it shows the false coz != this for not equal to  "
   ]
  },
  {
   "cell_type": "code",
   "execution_count": 35,
   "id": "71f2e422-f185-4388-a2c8-5bb0acf9a1e8",
   "metadata": {},
   "outputs": [
    {
     "data": {
      "text/plain": [
       "False"
      ]
     },
     "execution_count": 35,
     "metadata": {},
     "output_type": "execute_result"
    }
   ],
   "source": [
    "8>9"
   ]
  },
  {
   "cell_type": "code",
   "execution_count": 39,
   "id": "543e1868-5fc3-4b8d-942a-0caf5731f6b9",
   "metadata": {},
   "outputs": [
    {
     "data": {
      "text/plain": [
       "True"
      ]
     },
     "execution_count": 39,
     "metadata": {},
     "output_type": "execute_result"
    }
   ],
   "source": [
    "8.9<9.0"
   ]
  },
  {
   "cell_type": "code",
   "execution_count": 37,
   "id": "3ccc47a6-f913-44b9-ad5e-52b8deb67e8f",
   "metadata": {},
   "outputs": [
    {
     "data": {
      "text/plain": [
       "True"
      ]
     },
     "execution_count": 37,
     "metadata": {},
     "output_type": "execute_result"
    }
   ],
   "source": [
    "19>=10"
   ]
  },
  {
   "cell_type": "markdown",
   "id": "4ad522e3-423d-48c2-b63a-6e4d4edcc2a1",
   "metadata": {},
   "source": [
    "**4.Logical Oprator**\n",
    "- will gives o/p as boolean only.\n",
    "- and, or,not\n",
    "  \n",
    "    **Logical operator Precedence**\n",
    "  - Logical NOT\n",
    "  - Logical AND\n",
    "  - Logical OR"
   ]
  },
  {
   "cell_type": "code",
   "execution_count": 1,
   "id": "1bc9b4e5-98dc-4008-8856-b5e82dcadecf",
   "metadata": {},
   "outputs": [
    {
     "data": {
      "text/plain": [
       "False"
      ]
     },
     "execution_count": 1,
     "metadata": {},
     "output_type": "execute_result"
    }
   ],
   "source": [
    "5<3 and 2<3                   # all conditions needs to be true in the and opertor "
   ]
  },
  {
   "cell_type": "code",
   "execution_count": 46,
   "id": "d272f625-af3f-4944-845e-cc57cea87d13",
   "metadata": {},
   "outputs": [
    {
     "data": {
      "text/plain": [
       "True"
      ]
     },
     "execution_count": 46,
     "metadata": {},
     "output_type": "execute_result"
    }
   ],
   "source": [
    "5<4 or 2<3                    #min one condition should be true"
   ]
  },
  {
   "cell_type": "code",
   "execution_count": 53,
   "id": "25f9ddc5-13f1-48e4-bdde-4cdef41bc9d0",
   "metadata": {},
   "outputs": [
    {
     "data": {
      "text/plain": [
       "True"
      ]
     },
     "execution_count": 53,
     "metadata": {},
     "output_type": "execute_result"
    }
   ],
   "source": [
    "# T or F and T         ( here as per operators precedence will fisrt focus on comparison operator)\n",
    "# T or F               (as per Logical Operator prece it fisrt focus on AND ope. and then Or Ope.)\n",
    "# T                    ( as in Or oper. min one cond is true)\n",
    "4>3 or  2>5 and 5<6"
   ]
  },
  {
   "cell_type": "code",
   "execution_count": 57,
   "id": "ba579077-373d-4282-aff7-6fcca85ea49f",
   "metadata": {},
   "outputs": [
    {
     "name": "stdout",
     "output_type": "stream",
     "text": [
      "False\n"
     ]
    }
   ],
   "source": [
    "# b = false or not True and true \n",
    "# b = false or False and True\n",
    "# b = false or False \n",
    "#b = False\n",
    "b = False or not (5>2) and True \n",
    "print(b)"
   ]
  },
  {
   "cell_type": "markdown",
   "id": "fa8f4c9c-2d35-4f04-bd93-b5a9532e0e69",
   "metadata": {},
   "source": [
    "**5.Identity Operator**\n",
    "- to check if two values or variables are indicating the same object\n",
    "- Return the o/p as boolean\n",
    "- is, is not"
   ]
  },
  {
   "cell_type": "code",
   "execution_count": 58,
   "id": "ca23a7d0-659f-4377-bc3a-76d518cef273",
   "metadata": {},
   "outputs": [
    {
     "data": {
      "text/plain": [
       "True"
      ]
     },
     "execution_count": 58,
     "metadata": {},
     "output_type": "execute_result"
    }
   ],
   "source": [
    "a= 3\n",
    "b=3 \n",
    "a is b"
   ]
  },
  {
   "cell_type": "code",
   "execution_count": 59,
   "id": "7cf26428-f480-40fb-bc52-e2a0fbe35c80",
   "metadata": {},
   "outputs": [
    {
     "name": "stdout",
     "output_type": "stream",
     "text": [
      "140705995176440\n"
     ]
    }
   ],
   "source": [
    "print (id(a))"
   ]
  },
  {
   "cell_type": "code",
   "execution_count": 60,
   "id": "0ad69aa7-9cc1-4574-8210-11a7d56d7d7a",
   "metadata": {},
   "outputs": [
    {
     "name": "stdout",
     "output_type": "stream",
     "text": [
      "140705995176440\n"
     ]
    }
   ],
   "source": [
    "print (id(b))      # both id are matched"
   ]
  },
  {
   "cell_type": "code",
   "execution_count": 66,
   "id": "43b1daa8-8a89-486d-a180-a3981fd44013",
   "metadata": {},
   "outputs": [
    {
     "data": {
      "text/plain": [
       "True"
      ]
     },
     "execution_count": 66,
     "metadata": {},
     "output_type": "execute_result"
    }
   ],
   "source": [
    "x= 6\n",
    "y=8\n",
    "x is not y "
   ]
  },
  {
   "cell_type": "code",
   "execution_count": 68,
   "id": "9b205229-420a-4f41-84a6-cb5ec1249990",
   "metadata": {},
   "outputs": [
    {
     "name": "stdout",
     "output_type": "stream",
     "text": [
      "140705995176536\n"
     ]
    }
   ],
   "source": [
    "print (id(x))"
   ]
  },
  {
   "cell_type": "code",
   "execution_count": 67,
   "id": "218fcd86-5226-4d49-a361-fbe66c92630b",
   "metadata": {},
   "outputs": [
    {
     "name": "stdout",
     "output_type": "stream",
     "text": [
      "140705995176600\n"
     ]
    }
   ],
   "source": [
    "print (id(y))  # ids are differnt "
   ]
  },
  {
   "cell_type": "markdown",
   "id": "dc22ce24-6ddd-4c59-befe-96dfcc76c48c",
   "metadata": {},
   "source": [
    "**6.Membership Operators**\n",
    "- used to check whether a value or variable are in sequence(str,list,tuple,set & dict)\n",
    "- returns o/p as boolean\n",
    "- in , not in"
   ]
  },
  {
   "cell_type": "code",
   "execution_count": 71,
   "id": "4711c5a5-418f-4fcf-8843-2a7fc8e23d7b",
   "metadata": {},
   "outputs": [
    {
     "data": {
      "text/plain": [
       "True"
      ]
     },
     "execution_count": 71,
     "metadata": {},
     "output_type": "execute_result"
    }
   ],
   "source": [
    "a = \"venkatesh\"\n",
    "\"tes\" in a"
   ]
  },
  {
   "cell_type": "code",
   "execution_count": 72,
   "id": "92f20c15-a9bc-406a-bb81-9d073585ea77",
   "metadata": {},
   "outputs": [
    {
     "data": {
      "text/plain": [
       "False"
      ]
     },
     "execution_count": 72,
     "metadata": {},
     "output_type": "execute_result"
    }
   ],
   "source": [
    "a = \"venkatesh\"\n",
    "\"ter\" in a"
   ]
  }
 ],
 "metadata": {
  "kernelspec": {
   "display_name": "Python 3 (ipykernel)",
   "language": "python",
   "name": "python3"
  },
  "language_info": {
   "codemirror_mode": {
    "name": "ipython",
    "version": 3
   },
   "file_extension": ".py",
   "mimetype": "text/x-python",
   "name": "python",
   "nbconvert_exporter": "python",
   "pygments_lexer": "ipython3",
   "version": "3.12.4"
  }
 },
 "nbformat": 4,
 "nbformat_minor": 5
}
