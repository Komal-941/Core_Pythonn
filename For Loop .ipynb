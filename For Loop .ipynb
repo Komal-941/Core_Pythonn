{
 "cells": [
  {
   "cell_type": "markdown",
   "id": "5cb11dc9-01fb-48fd-bdb4-1f8fa712b8c8",
   "metadata": {},
   "source": [
    "# FOR LOOP \n",
    "- syntax\n",
    "   - for variable_name in seq:\n",
    "   - block of code\n",
    "   - no.of times the block will be repeated ==len(seq)\n",
    "  "
   ]
  },
  {
   "cell_type": "code",
   "execution_count": 9,
   "id": "30249288",
   "metadata": {},
   "outputs": [
    {
     "name": "stdout",
     "output_type": "stream",
     "text": [
      "[2, 4, 6, 8, 10, 12, 14, 16, 18, 20]\n"
     ]
    }
   ],
   "source": [
    "l=[]                            #using for loop\n",
    "for i in range(1,21):\n",
    "    if i%2==0:\n",
    "        l.append(i)\n",
    "print(l)"
   ]
  },
  {
   "cell_type": "code",
   "execution_count": 19,
   "id": "5d760663-67e0-41fe-b7d1-d0d0e54ebb45",
   "metadata": {},
   "outputs": [
    {
     "name": "stdout",
     "output_type": "stream",
     "text": [
      "23\n",
      "67\n",
      "sb\n",
      "34.9\n",
      "(34.7, 78, 'ks')\n"
     ]
    }
   ],
   "source": [
    "s = (23,67,\"sb\",34.9,(34.7,78,\"ks\"))        #sequence in tuple\n",
    "for i in s:\n",
    "    print(i)"
   ]
  },
  {
   "cell_type": "markdown",
   "id": "7bb64cbe-d706-4a5f-9bc5-0d52d81bad9b",
   "metadata": {},
   "source": [
    "**Q.Ask user to enter a 5 numbers and do a sum**"
   ]
  },
  {
   "cell_type": "code",
   "execution_count": 32,
   "id": "c061d97e-7633-4331-8728-c2718db577b1",
   "metadata": {},
   "outputs": [
    {
     "name": "stdin",
     "output_type": "stream",
     "text": [
      "enter a number: 2\n",
      "enter a number: 3\n",
      "enter a number: 4\n",
      "enter a number: 5\n",
      "enter a number: 1\n"
     ]
    },
    {
     "name": "stdout",
     "output_type": "stream",
     "text": [
      "15\n"
     ]
    }
   ],
   "source": [
    "sum=0\n",
    "for i in range(5):\n",
    "    numbers = eval(input(\"enter a number:\"))\n",
    "    sum = sum+numbers\n",
    "print(sum)"
   ]
  },
  {
   "cell_type": "markdown",
   "id": "fde0562d-76a6-464d-91fd-ef05d2dba7aa",
   "metadata": {},
   "source": [
    "**write a multiplication table of 5**"
   ]
  },
  {
   "cell_type": "code",
   "execution_count": 33,
   "id": "14a5c72f-53d6-49c5-bf98-bd80f297cb8b",
   "metadata": {},
   "outputs": [
    {
     "name": "stdout",
     "output_type": "stream",
     "text": [
      "5 * 1 = 5\n",
      "5 * 2 = 10\n",
      "5 * 3 = 15\n",
      "5 * 4 = 20\n",
      "5 * 5 = 25\n"
     ]
    }
   ],
   "source": [
    "print(5,\"*\",1,\"=\",5)\n",
    "print(5,\"*\",2,\"=\",10)\n",
    "print(5,\"*\",3,\"=\",15)\n",
    "print(5,\"*\",4,\"=\",20)\n",
    "print(5,\"*\",5,\"=\",25)"
   ]
  },
  {
   "cell_type": "code",
   "execution_count": 34,
   "id": "a4603c87-690e-4c44-a65c-aaab1e4a1310",
   "metadata": {},
   "outputs": [
    {
     "name": "stdout",
     "output_type": "stream",
     "text": [
      "5 * 1 = 5\n",
      "5 * 2 = 10\n",
      "5 * 3 = 15\n",
      "5 * 4 = 20\n",
      "5 * 5 = 25\n"
     ]
    }
   ],
   "source": [
    "for i in range(1,6):              #whichever value is changing considered as i \n",
    "    print(5,\"*\",i,\"=\",5*i)"
   ]
  },
  {
   "cell_type": "code",
   "execution_count": 76,
   "id": "a7faef88",
   "metadata": {},
   "outputs": [
    {
     "name": "stdout",
     "output_type": "stream",
     "text": [
      "given values ['k', 'o', 'k', 'o', 'm', 'a', 'l', 'a', 'l', '9', '4', '9', '0', '1', '9']\n",
      "unique values ['k', 'o', 'm', 'a', 'l', '9', '4', '0', '1']\n",
      "k 2\n",
      "o 2\n",
      "m 1\n",
      "a 2\n",
      "l 2\n",
      "9 3\n",
      "4 1\n",
      "0 1\n",
      "1 1\n"
     ]
    }
   ],
   "source": [
    "n=['k', 'o', 'k', 'o', 'm', 'a', 'l', 'a', 'l', '9', '4', '9', '0', '1', '9'] \n",
    "m=[]                            #without using set\n",
    "for i in n:\n",
    "    if i not in m:\n",
    "        m.append(i)\n",
    "print(\"given values\",n)\n",
    "print(\"unique values\",m)\n",
    "\n",
    "for i in m:\n",
    "    print(i,n.count(i))\n"
   ]
  },
  {
   "cell_type": "code",
   "execution_count": 95,
   "id": "c0dbc736",
   "metadata": {},
   "outputs": [
    {
     "name": "stdout",
     "output_type": "stream",
     "text": [
      "['pawan']\n"
     ]
    }
   ],
   "source": [
    "#write a program to return a pawan\n",
    "\n",
    "l=[\"srk\",\"ks\",\"pawan\",\"uday\",\"re\"]\n",
    "k=[]\n",
    "for i in l:\n",
    "    if i==\"pawan\":        #here loop will be repeated for 3 times asa it will matches the condn loop will break and will not check for further values\n",
    "        k.append(i)\n",
    "        break\n",
    "print(k)"
   ]
  },
  {
   "cell_type": "code",
   "execution_count": 116,
   "id": "53071600",
   "metadata": {},
   "outputs": [
    {
     "name": "stdout",
     "output_type": "stream",
     "text": [
      "sum of even numbers 92\n",
      "sum of odd numbers 111\n"
     ]
    }
   ],
   "source": [
    "#write the program to sum all even numbers and all odd numbers seperateley\n",
    "\n",
    "\n",
    "l=[10,20,30,35,37,32,39]\n",
    "\n",
    "es=0\n",
    "os=0\n",
    "\n",
    "for i in l :\n",
    "    if i%2==0:\n",
    "        es = es+i\n",
    "    else:\n",
    "        os=os+i \n",
    "\n",
    "print(\"sum of even numbers\",es)\n",
    "print(\"sum of odd numbers\",os)"
   ]
  },
  {
   "cell_type": "markdown",
   "id": "c1762605-e9cb-406a-8bb3-7d498342113f",
   "metadata": {},
   "source": [
    "# nested for loop"
   ]
  },
  {
   "cell_type": "code",
   "execution_count": 131,
   "id": "eaae2a21-c927-4989-aad4-96c5942d03d1",
   "metadata": {},
   "outputs": [
    {
     "name": "stdout",
     "output_type": "stream",
     "text": [
      "1 1\n",
      "1 2\n",
      "2 1\n",
      "2 2\n",
      "3 1\n",
      "3 2\n"
     ]
    }
   ],
   "source": [
    "'''\n",
    "i will work as (i=1,1=2,i=3)\n",
    "i =1\n",
    "for j (it wil work as j=1,j=2) so\n",
    "print(i,j)\n",
    "1,1\n",
    "1,2 -->after completing for all j values it will go for next i value\n",
    "\n",
    "i =2\n",
    "print(i,j)\n",
    "2,1\n",
    "2,2\n",
    "'''\n",
    "\n",
    "for i in range(1,4):\n",
    "    for j in range(1,3):\n",
    "        print(i,j)"
   ]
  },
  {
   "cell_type": "code",
   "execution_count": 135,
   "id": "484940e0-8edd-4c69-a0d3-a057921b1105",
   "metadata": {},
   "outputs": [
    {
     "name": "stdout",
     "output_type": "stream",
     "text": [
      "50 0\n",
      "50 1\n",
      "50 2\n",
      "125 0\n",
      "125 1\n",
      "125 2\n",
      "67 0\n",
      "67 1\n",
      "67 2\n",
      "2 0\n",
      "2 1\n",
      "2 2\n"
     ]
    }
   ],
   "source": [
    " #instead of assigning a variable to the list we can direclty go for list                 #if vaues are not in range or in pattern\n",
    "for i in [50,125,67,2]:\n",
    "    for j in range(0,3):\n",
    "        print(i,j)"
   ]
  },
  {
   "cell_type": "code",
   "execution_count": null,
   "id": "1437097a-c28d-4c9d-8817-f4abd7b34ccc",
   "metadata": {},
   "outputs": [],
   "source": []
  }
 ],
 "metadata": {
  "kernelspec": {
   "display_name": "Python 3 (ipykernel)",
   "language": "python",
   "name": "python3"
  },
  "language_info": {
   "codemirror_mode": {
    "name": "ipython",
    "version": 3
   },
   "file_extension": ".py",
   "mimetype": "text/x-python",
   "name": "python",
   "nbconvert_exporter": "python",
   "pygments_lexer": "ipython3",
   "version": "3.12.4"
  }
 },
 "nbformat": 4,
 "nbformat_minor": 5
}
