{
 "cells": [
  {
   "cell_type": "markdown",
   "id": "cdfb4226-501f-42f5-b968-7983840ad2e5",
   "metadata": {},
   "source": [
    "# Dictionary {} \n",
    "- ordered\n",
    "- mutable\n",
    "- each item cosist of key:value\n",
    "- key should be immutable(int, foat, str, bool, tuple); values can be anything\n",
    "- we can do indexing\n",
    "- "
   ]
  },
  {
   "cell_type": "code",
   "execution_count": 1,
   "id": "85d1fd4e-9cb7-4b88-ae6a-749a2c65fe33",
   "metadata": {},
   "outputs": [
   
   ],
   "source": [
    "! python --version"
   ]
  },
  {
   "cell_type": "markdown",
   "id": "1a71ca71-aa0d-4ad4-84eb-c6de463b6612",
   "metadata": {},
   "source": [
    "**empty dict**"
   ]
  },
  {
   "cell_type": "code",
   "execution_count": 1,
   "id": "2c75ee3e-9017-47ad-9295-e12aef2379ed",
   "metadata": {},
   "outputs": [
    {
     "name": "stdout",
     "output_type": "stream",
     "text": [
      "{}\n"
     ]
    }
   ],
   "source": [
    " d= dict()\n",
    "print(d)"
   ]
  },
  {
   "cell_type": "code",
   "execution_count": 3,
   "id": "380098d7-b40e-438b-af08-b0544725d221",
   "metadata": {},
   "outputs": [
    {
     "name": "stdout",
     "output_type": "stream",
     "text": [
      "{}\n"
     ]
    }
   ],
   "source": [
    "d = {} \n",
    "print(d)"
   ]
  },
  {
   "cell_type": "code",
   "execution_count": 4,
   "id": "f7357cb3-a2f0-4539-825a-d6aef759a6b4",
   "metadata": {},
   "outputs": [
    {
     "name": "stdout",
     "output_type": "stream",
     "text": [
      "{1: 2, 2: 'r', 3.4: True, 6.5: 'shelar'}\n"
     ]
    },
    {
     "data": {
      "text/plain": [
       "dict"
      ]
     },
     "execution_count": 4,
     "metadata": {},
     "output_type": "execute_result"
    }
   ],
   "source": [
    "d = {1:2,2:\"r\", 3.4:True , 6.5:\"shelar\"} \n",
    "print(d)\n",
    "type(d)"
   ]
  },
  {
   "cell_type": "markdown",
   "id": "8dc2a12f-6f39-4f09-9978-04ed9d7003b9",
   "metadata": {},
   "source": [
    "**nested dict** \n",
    "\n",
    " within dict one item as dict called as nested dict"
   ]
  },
  {
   "cell_type": "code",
   "execution_count": 5,
   "id": "dc057417-21cd-45ef-9109-65b3cefcf4de",
   "metadata": {},
   "outputs": [
    {
     "name": "stdout",
     "output_type": "stream",
     "text": [
      "{'cary': 2001, 'carb': 'Audi', 'carc': True, 'cardd': [12, 17], 'care': {56.7, 23}}\n",
      "<class 'dict'>\n"
     ]
    }
   ],
   "source": [
    "car ={\"cary\":2001 , \"carb\":\"Audi\" , \"carc\" : True , \"cardd\" : [12,17], \"care\": {23,56.7} } \n",
    "print(car) \n",
    "print(type(car))"
   ]
  },
  {
   "cell_type": "markdown",
   "id": "1bd897d4-9df7-4cb4-a7fa-b7c06afa2e5d",
   "metadata": {},
   "source": [
    "**indexing** \n",
    "- syn: varibale_name{key}"
   ]
  },
  {
   "cell_type": "code",
   "execution_count": 6,
   "id": "16b27a24-27d6-488a-922c-2cb0ffbe61b6",
   "metadata": {},
   "outputs": [
    {
     "data": {
      "text/plain": [
       "[12, 17]"
      ]
     },
     "execution_count": 6,
     "metadata": {},
     "output_type": "execute_result"
    }
   ],
   "source": [
    "car ={\"cary\":2001 , \"carb\":\"Audi\" , \"carc\" : True , 13.4 : [12,17], 24: {23,56.7} } \n",
    "car[13.4]"
   ]
  },
  {
   "cell_type": "code",
   "execution_count": 7,
   "id": "a2fa65be-e95b-4cd7-8978-87e941548578",
   "metadata": {},
   "outputs": [
    {
     "data": {
      "text/plain": [
       "12"
      ]
     },
     "execution_count": 7,
     "metadata": {},
     "output_type": "execute_result"
    }
   ],
   "source": [
    "car[13.4][0]"
   ]
  },
  {
   "cell_type": "code",
   "execution_count": 8,
   "id": "23803eeb-c666-4a10-872d-a6a291917810",
   "metadata": {},
   "outputs": [
    {
     "data": {
      "text/plain": [
       "'Audi'"
      ]
     },
     "execution_count": 8,
     "metadata": {},
     "output_type": "execute_result"
    }
   ],
   "source": [
    "car[\"carb\"]"
   ]
  },
  {
   "cell_type": "code",
   "execution_count": 9,
   "id": "998db351-67ae-4a93-84db-b0056b26bf86",
   "metadata": {},
   "outputs": [
    {
     "data": {
      "text/plain": [
       "'u'"
      ]
     },
     "execution_count": 9,
     "metadata": {},
     "output_type": "execute_result"
    }
   ],
   "source": [
    "car[\"carb\"][1]"
   ]
  },
  {
   "cell_type": "code",
   "execution_count": 16,
   "id": "69e88ab2-06cb-41dc-9640-76b8286c10b4",
   "metadata": {},
   "outputs": [
    {
     "ename": "TypeError",
     "evalue": "'set' object is not subscriptable",
     "output_type": "error",
     "traceback": [
      "\u001b[1;31m---------------------------------------------------------------------------\u001b[0m",
      "\u001b[1;31mTypeError\u001b[0m                                 Traceback (most recent call last)",
      "Cell \u001b[1;32mIn[16], line 1\u001b[0m\n\u001b[1;32m----> 1\u001b[0m car[\u001b[38;5;241m24\u001b[39m][\u001b[38;5;241m0\u001b[39m]\n",
      "\u001b[1;31mTypeError\u001b[0m: 'set' object is not subscriptable"
     ]
    }
   ],
   "source": [
    " car[24][0]                #cant do a indexing on nested set \n",
    "                        # cant do indexing on int , float, bool ----> error shown calles type error "
   ]
  },
  {
   "cell_type": "code",
   "execution_count": 17,
   "id": "720f74f1-fc87-479b-bf81-d543fbe2a629",
   "metadata": {},
   "outputs": [
    {
     "ename": "KeyError",
     "evalue": "'k'",
     "output_type": "error",
     "traceback": [
      "\u001b[1;31m---------------------------------------------------------------------------\u001b[0m",
      "\u001b[1;31mKeyError\u001b[0m                                  Traceback (most recent call last)",
      "Cell \u001b[1;32mIn[17], line 1\u001b[0m\n\u001b[1;32m----> 1\u001b[0m car[\u001b[38;5;124m\"\u001b[39m\u001b[38;5;124mk\u001b[39m\u001b[38;5;124m\"\u001b[39m]\n",
      "\u001b[1;31mKeyError\u001b[0m: 'k'"
     ]
    }
   ],
   "source": [
    "car[\"k\"]                       #in case of dict if key is not available will show a keyerror"
   ]
  },
  {
   "cell_type": "markdown",
   "id": "77a24bcf-a024-42d8-a39f-1540443255f5",
   "metadata": {},
   "source": [
    "- error raised in list, tuple , string --->   **index error**\n",
    "- error raised in dict(key unavailable) --->  **key error**\n",
    "- cant do indexing on int , float, bool ----> **type error**"
   ]
  },
  {
   "cell_type": "code",
   "execution_count": 22,
   "id": "4cd89827-ca51-4c61-bc44-c44e1327da78",
   "metadata": {},
   "outputs": [
    {
     "data": {
      "text/plain": [
       "{23, 56.7}"
      ]
     },
     "execution_count": 22,
     "metadata": {},
     "output_type": "execute_result"
    }
   ],
   "source": [
    "car.get(24)                  #another method to do indexing"
   ]
  },
  {
   "cell_type": "markdown",
   "id": "75de7b51-9903-4500-80a4-75129b597089",
   "metadata": {},
   "source": [
    "**dictionry methods**"
   ]
  },
  {
   "cell_type": "code",
   "execution_count": 26,
   "id": "77ab5f32-35eb-45be-94c6-a061adc7b7d6",
   "metadata": {},
   "outputs": [
    {
     "data": {
      "text/plain": [
       "{'history': 45, 'Hindi': 90}"
      ]
     },
     "execution_count": 26,
     "metadata": {},
     "output_type": "execute_result"
    }
   ],
   "source": [
    "marks = {\"history\":45,\"Hindi\":56 ,\"Hindi\" :90 }  #in case of duplicate keys the old one wiill deleted and new one will printed\n",
    "marks"
   ]
  },
  {
   "cell_type": "code",
   "execution_count": 28,
   "id": "4c965313-614e-4cf4-b69a-882f36dc9c07",
   "metadata": {},
   "outputs": [
    {
     "data": {
      "text/plain": [
       "{'history': 45, 'Hindi': 56, 'English': 56}"
      ]
     },
     "execution_count": 28,
     "metadata": {},
     "output_type": "execute_result"
    }
   ],
   "source": [
    "marks = {\"history\":45,\"Hindi\":56 ,\"English\" :56 }  #in case of duplicate values; no issue will be created\n",
    "marks"
   ]
  },
  {
   "cell_type": "code",
   "execution_count": null,
   "id": "74c3589a-bd49-4393-9f3b-a757d1874484",
   "metadata": {},
   "outputs": [],
   "source": []
  },
  {
   "cell_type": "markdown",
   "id": "d3c224ab-fb24-44e6-ab06-c524d6538d15",
   "metadata": {},
   "source": [
    "**1.dict.items()** \n",
    "- return the key: value pair present in dict in format of list of tuple"
   ]
  },
  {
   "cell_type": "code",
   "execution_count": 29,
   "id": "bf45d016-31af-44a4-9639-3c5ec75f2490",
   "metadata": {},
   "outputs": [],
   "source": [
    "marks = {\"history\":45,\"Hindi\":56 ,\"English\" :56 } "
   ]
  },
  {
   "cell_type": "code",
   "execution_count": 33,
   "id": "d602d65b-5511-4319-850c-6670025ab129",
   "metadata": {},
   "outputs": [
    {
     "data": {
      "text/plain": [
       "dict_items([('history', 45), ('Hindi', 56), ('English', 56)])"
      ]
     },
     "execution_count": 33,
     "metadata": {},
     "output_type": "execute_result"
    }
   ],
   "source": [
    "marks.items()"
   ]
  },
  {
   "cell_type": "markdown",
   "id": "50931ba7-52b4-4652-9751-6095d4fdd64f",
   "metadata": {},
   "source": [
    "**2.dict.keys()** \n",
    "- return the keys in dict"
   ]
  },
  {
   "cell_type": "code",
   "execution_count": 34,
   "id": "00e84664-d8fa-4741-8751-c64cd0b89585",
   "metadata": {},
   "outputs": [
    {
     "data": {
      "text/plain": [
       "dict_keys(['history', 'Hindi', 'English'])"
      ]
     },
     "execution_count": 34,
     "metadata": {},
     "output_type": "execute_result"
    }
   ],
   "source": [
    "marks.keys()"
   ]
  },
  {
   "cell_type": "markdown",
   "id": "a6546c75-5bef-403a-975f-2fdd55a5231a",
   "metadata": {},
   "source": [
    "**3.dict.values()** \n",
    "- return the values in dict"
   ]
  },
  {
   "cell_type": "code",
   "execution_count": 35,
   "id": "f9db7f02-e089-45f6-b380-5bb9f5ad414b",
   "metadata": {},
   "outputs": [
    {
     "data": {
      "text/plain": [
       "dict_values([45, 56, 56])"
      ]
     },
     "execution_count": 35,
     "metadata": {},
     "output_type": "execute_result"
    }
   ],
   "source": [
    "marks.values()"
   ]
  },
  {
   "cell_type": "markdown",
   "id": "d17aa88e-8a4f-4d6d-ada4-79ab12d16573",
   "metadata": {},
   "source": [
    "**adding single or Multiple value** \n"
   ]
  },
  {
   "cell_type": "code",
   "execution_count": 37,
   "id": "fa821600-9367-4cd1-93dc-8f14b46b0f67",
   "metadata": {},
   "outputs": [
    {
     "data": {
      "text/plain": [
       "{'history': 45, 'Hindi': 56, 'eng': 78}"
      ]
     },
     "execution_count": 37,
     "metadata": {},
     "output_type": "execute_result"
    }
   ],
   "source": [
    "marks = {\"history\":45,\"Hindi\":56 }  \n",
    "marks.update({\"eng\":78}) \n",
    "marks"
   ]
  },
  {
   "cell_type": "code",
   "execution_count": 38,
   "id": "c3118b3b-6d5e-4fee-a610-c89caab589d0",
   "metadata": {},
   "outputs": [
    {
     "data": {
      "text/plain": [
       "{'history': 45, 'Hindi': 56, 'eng': 78, 23: 67, 'Ks': 34.87, 67.9: True}"
      ]
     },
     "execution_count": 38,
     "metadata": {},
     "output_type": "execute_result"
    }
   ],
   "source": [
    "marks.update({23:67, \"Ks\":34.87 , 67.9:True}) \n",
    "marks"
   ]
  },
  {
   "cell_type": "markdown",
   "id": "7c860871-bac9-48f8-8763-ed408a6f9083",
   "metadata": {},
   "source": [
    "**deleting the values** \n",
    "- syn : del[dictkey]"
   ]
  },
  {
   "cell_type": "code",
   "execution_count": 1,
   "id": "e9bdf79f-9e25-4d85-9bbe-aaeedffc913d",
   "metadata": {},
   "outputs": [
    {
     "name": "stdout",
     "output_type": "stream",
     "text": [
      "{'history': 45, 'eng': 78, 23: 67, 'Ks': 34.87, 67.9: True}\n"
     ]
    }
   ],
   "source": [
    "marks = {'history': 45, 'Hindi': 56, 'eng': 78, 23: 67, 'Ks': 34.87, 67.9: True} \n",
    "del marks[\"Hindi\"]\n",
    "print(marks)"
   ]
  },
  {
   "cell_type": "markdown",
   "id": "86985f3c-50ed-451e-9675-1c04b8b24011",
   "metadata": {},
   "source": [
    "**pop method** \n",
    "- removes key and return the value of  with specified key\n",
    "- key is unavailable ; will show key erro"
   ]
  },
  {
   "cell_type": "code",
   "execution_count": 51,
   "id": "3c5cec24-a43f-437c-a2af-1aebc5e21feb",
   "metadata": {},
   "outputs": [
    {
     "ename": "TypeError",
     "evalue": "'builtin_function_or_method' object is not subscriptable",
     "output_type": "error",
     "traceback": [
      "\u001b[1;31m---------------------------------------------------------------------------\u001b[0m",
      "\u001b[1;31mTypeError\u001b[0m                                 Traceback (most recent call last)",
      "Cell \u001b[1;32mIn[51], line 2\u001b[0m\n\u001b[0;32m      1\u001b[0m marks \u001b[38;5;241m=\u001b[39m {\u001b[38;5;124m'\u001b[39m\u001b[38;5;124mhistory\u001b[39m\u001b[38;5;124m'\u001b[39m: \u001b[38;5;241m45\u001b[39m, \u001b[38;5;124m'\u001b[39m\u001b[38;5;124mHindi\u001b[39m\u001b[38;5;124m'\u001b[39m: \u001b[38;5;241m56\u001b[39m, \u001b[38;5;124m'\u001b[39m\u001b[38;5;124meng\u001b[39m\u001b[38;5;124m'\u001b[39m: \u001b[38;5;241m78\u001b[39m}  \n\u001b[1;32m----> 2\u001b[0m marks\u001b[38;5;241m.\u001b[39mpop[\u001b[38;5;124m'\u001b[39m\u001b[38;5;124meng\u001b[39m\u001b[38;5;124m'\u001b[39m]\n\u001b[0;32m      3\u001b[0m marks\n",
      "\u001b[1;31mTypeError\u001b[0m: 'builtin_function_or_method' object is not subscriptable"
     ]
    }
   ],
   "source": [
    "marks = {'history': 45, 'Hindi': 56, 'eng': 78}  \n",
    "marks.pop['eng']\n",
    "marks"
   ]
  },
  {
   "cell_type": "code",
   "execution_count": 2,
   "id": "1c68cbda-8383-4f78-9732-c6d2a47c4e56",
   "metadata": {},
   "outputs": [
    {
     "ename": "TypeError",
     "evalue": "'builtin_function_or_method' object is not subscriptable",
     "output_type": "error",
     "traceback": [
      "\u001b[1;31m---------------------------------------------------------------------------\u001b[0m",
      "\u001b[1;31mTypeError\u001b[0m                                 Traceback (most recent call last)",
      "Cell \u001b[1;32mIn[2], line 2\u001b[0m\n\u001b[0;32m      1\u001b[0m marks \u001b[38;5;241m=\u001b[39m {\u001b[38;5;124m'\u001b[39m\u001b[38;5;124mhistory\u001b[39m\u001b[38;5;124m'\u001b[39m: \u001b[38;5;241m45\u001b[39m, \u001b[38;5;124m'\u001b[39m\u001b[38;5;124mHindi\u001b[39m\u001b[38;5;124m'\u001b[39m: \u001b[38;5;241m56\u001b[39m, \u001b[38;5;124m'\u001b[39m\u001b[38;5;124meng\u001b[39m\u001b[38;5;124m'\u001b[39m: \u001b[38;5;241m78\u001b[39m}  \n\u001b[1;32m----> 2\u001b[0m marks\u001b[38;5;241m.\u001b[39mpop[\u001b[38;5;124m'\u001b[39m\u001b[38;5;124meng\u001b[39m\u001b[38;5;124m'\u001b[39m]\n\u001b[0;32m      3\u001b[0m marks\n",
      "\u001b[1;31mTypeError\u001b[0m: 'builtin_function_or_method' object is not subscriptable"
     ]
    }
   ],
   "source": [
    "marks = {'history': 45, 'Hindi': 56, 'eng': 78}  \n",
    "marks.pop['eng']\n",
    "marks"
   ]
  },
  {
   "cell_type": "markdown",
   "id": "dc7a1946-a516-44ab-9e81-d509fffe4f31",
   "metadata": {},
   "source": [
    "**dict.clear**"
   ]
  },
  {
   "cell_type": "code",
   "execution_count": 53,
   "id": "623c12c6-caf1-47d9-8579-e26f565b9915",
   "metadata": {},
   "outputs": [
    {
     "data": {
      "text/plain": [
       "{}"
      ]
     },
     "execution_count": 53,
     "metadata": {},
     "output_type": "execute_result"
    }
   ],
   "source": [
    "marks = {'history': 45, 'Hindi': 56, 'eng': 78}  \n",
    "marks.clear()\n",
    "marks"
   ]
  },
  {
   "cell_type": "markdown",
   "id": "8e91113c-76a4-4eb6-a74f-21aa2ae9c038",
   "metadata": {},
   "source": [
    "**dict.copy**"
   ]
  },
  {
   "cell_type": "code",
   "execution_count": 55,
   "id": "55822335-ff6e-4bab-aa3b-2ae7b561cd8d",
   "metadata": {},
   "outputs": [
    {
     "name": "stdout",
     "output_type": "stream",
     "text": [
      "{'history': 45, 'Hindi': 56, 'eng': 78}\n"
     ]
    },
    {
     "data": {
      "text/plain": [
       "{'history': 45, 'Hindi': 56, 'eng': 78, 'chem': 90}"
      ]
     },
     "execution_count": 55,
     "metadata": {},
     "output_type": "execute_result"
    }
   ],
   "source": [
    "marks = {'history': 45, 'Hindi': 56, 'eng': 78}  \n",
    "new_marks = marks.copy() \n",
    "\n",
    "new_marks.update({\"chem\": 90}) \n",
    "print(marks)\n",
    "new_marks"
   ]
  },
  {
   "cell_type": "markdown",
   "id": "b216c811-46ce-4a54-ac65-395958a73ddd",
   "metadata": {},
   "source": [
    "**replacing Values**"
   ]
  },
  {
   "cell_type": "code",
   "execution_count": 57,
   "id": "646c29c8-ab5b-4462-aa43-83cb70061a2f",
   "metadata": {},
   "outputs": [
    {
     "data": {
      "text/plain": [
       "{'history': 45, 'Hindi': 76, 'eng': 78}"
      ]
     },
     "execution_count": 57,
     "metadata": {},
     "output_type": "execute_result"
    }
   ],
   "source": [
    "marks = {'history': 45, 'Hindi': 56, 'eng': 78} \n",
    "marks['Hindi'] = 76\n",
    "marks"
   ]
  },
  {
   "cell_type": "markdown",
   "id": "25f58175-a3f9-4b5b-9579-5244b1f5b959",
   "metadata": {},
   "source": [
    "**replacing keys**"
   ]
  },
  {
   "cell_type": "code",
   "execution_count": 61,
   "id": "0089aebc-247d-43e4-80e0-24961ceabd6c",
   "metadata": {},
   "outputs": [
    {
     "ename": "KeyError",
     "evalue": "'Phy'",
     "output_type": "error",
     "traceback": [
      "\u001b[1;31m---------------------------------------------------------------------------\u001b[0m",
      "\u001b[1;31mKeyError\u001b[0m                                  Traceback (most recent call last)",
      "Cell \u001b[1;32mIn[61], line 2\u001b[0m\n\u001b[0;32m      1\u001b[0m marks \u001b[38;5;241m=\u001b[39m {\u001b[38;5;124m'\u001b[39m\u001b[38;5;124mhistory\u001b[39m\u001b[38;5;124m'\u001b[39m: \u001b[38;5;241m45\u001b[39m, \u001b[38;5;124m'\u001b[39m\u001b[38;5;124mHindi\u001b[39m\u001b[38;5;124m'\u001b[39m: \u001b[38;5;241m56\u001b[39m, \u001b[38;5;124m'\u001b[39m\u001b[38;5;124meng\u001b[39m\u001b[38;5;124m'\u001b[39m: \u001b[38;5;241m78\u001b[39m}  \n\u001b[1;32m----> 2\u001b[0m marks[\u001b[38;5;124m'\u001b[39m\u001b[38;5;124mHindi\u001b[39m\u001b[38;5;124m'\u001b[39m] \u001b[38;5;241m=\u001b[39m marks\u001b[38;5;241m.\u001b[39mpop(\u001b[38;5;124m'\u001b[39m\u001b[38;5;124mPhy\u001b[39m\u001b[38;5;124m'\u001b[39m)\n\u001b[0;32m      3\u001b[0m \u001b[38;5;28mprint\u001b[39m(marks)\n",
      "\u001b[1;31mKeyError\u001b[0m: 'Phy'"
     ]
    }
   ],
   "source": [
    "marks = {'history': 45, 'Hindi': 56, 'eng': 78}  \n",
    "marks['Hindi'] = marks.pop('Phy')\n",
    "print(marks)"
   ]
  },
  {
   "cell_type": "code",
   "execution_count": 4,
   "id": "b9731380-e639-4a03-8523-f0ace3ab5b58",
   "metadata": {},
   "outputs": [
    {
     "data": {
      "text/plain": [
       "90"
      ]
     },
     "execution_count": 4,
     "metadata": {},
     "output_type": "execute_result"
    }
   ],
   "source": [
    "d ={\"Ks\":43,\"Sk\":90,\"hs\":65}\n",
    "d.pop(\"Sk\")"
   ]
  },
  {
   "cell_type": "code",
   "execution_count": 9,
   "id": "2f50525c-6327-4b68-9b74-30224cdf1376",
   "metadata": {},
   "outputs": [
    {
     "data": {
      "text/plain": [
       "bool"
      ]
     },
     "execution_count": 9,
     "metadata": {},
     "output_type": "execute_result"
    }
   ],
   "source": [
    "type(True)"
   ]
  },
  {
   "cell_type": "code",
   "execution_count": 15,
   "id": "a802675d-cddd-4298-b87f-7f63016d0774",
   "metadata": {},
   "outputs": [
    {
     "data": {
      "text/plain": [
       "False"
      ]
     },
     "execution_count": 15,
     "metadata": {},
     "output_type": "execute_result"
    }
   ],
   "source": [
    "10>5 and 5<2"
   ]
  },
  {
   "cell_type": "code",
   "execution_count": 16,
   "id": "68280612-3247-4e53-a8bf-438a1db61f3d",
   "metadata": {},
   "outputs": [
    {
     "data": {
      "text/plain": [
       "4"
      ]
     },
     "execution_count": 16,
     "metadata": {},
     "output_type": "execute_result"
    }
   ],
   "source": [
    "len([1,2,3,4])"
   ]
  },
  {
   "cell_type": "code",
   "execution_count": 17,
   "id": "7282771e-062e-423b-9e6c-8a276a543bb2",
   "metadata": {},
   "outputs": [
    {
     "data": {
      "text/plain": [
       "tuple"
      ]
     },
     "execution_count": 17,
     "metadata": {},
     "output_type": "execute_result"
    }
   ],
   "source": [
    "x = (1,2,3) \n",
    "type(x)"
   ]
  },
  {
   "cell_type": "code",
   "execution_count": null,
   "id": "27663159-45a2-4722-a2bc-a74075b80064",
   "metadata": {},
   "outputs": [],
   "source": []
  }
 ],
 "metadata": {
  "kernelspec": {
   "display_name": "Python 3 (ipykernel)",
   "language": "python",
   "name": "python3"
  },
  "language_info": {
   "codemirror_mode": {
    "name": "ipython",
    "version": 3
   },
   "file_extension": ".py",
   "mimetype": "text/x-python",
   "name": "python",
   "nbconvert_exporter": "python",
   "pygments_lexer": "ipython3",
   "version": "3.12.4"
  }
 },
 "nbformat": 4,
 "nbformat_minor": 5
}
