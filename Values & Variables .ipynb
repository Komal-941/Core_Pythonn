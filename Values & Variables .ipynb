{
 "cells": [
  {
   "cell_type": "markdown",
   "id": "a5df8cf9-0352-4e1f-b922-1fbabb7f22c4",
   "metadata": {},
   "source": [
    "#### Synt: print(value)"
   ]
  },
  {
   "cell_type": "markdown",
   "id": "6f9409d5-6fac-41a2-8b76-d1530fd8c4ba",
   "metadata": {},
   "source": [
    "**To print Single Value**"
   ]
  },
  {
   "cell_type": "code",
   "execution_count": 17,
   "id": "5ce489c8-8912-467c-b0d9-df38f14ffe32",
   "metadata": {},
   "outputs": [
    {
     "name": "stdout",
     "output_type": "stream",
     "text": [
      "13\n"
     ]
    }
   ],
   "source": [
    "print(13)                           #printng numeric value"
   ]
  },
  {
   "cell_type": "code",
   "execution_count": 2,
   "id": "d83f8646-8b91-404f-93d6-58da4dc40a38",
   "metadata": {},
   "outputs": [
    {
     "name": "stdout",
     "output_type": "stream",
     "text": [
      "Hello World!\n"
     ]
    }
   ],
   "source": [
    "print(\"Hello World!\")                #printing non-numeric value"
   ]
  },
  {
   "cell_type": "markdown",
   "id": "ef882a48-7927-4abf-b713-528bdaf24d73",
   "metadata": {},
   "source": [
    "**To print Multiple Values**"
   ]
  },
  {
   "cell_type": "code",
   "execution_count": 3,
   "id": "dc0e641c-2410-4978-9e2b-f7812c14816f",
   "metadata": {},
   "outputs": [
    {
     "name": "stdout",
     "output_type": "stream",
     "text": [
      "12 Twelve 10 Ten\n"
     ]
    }
   ],
   "source": [
    "print(12,\"Twelve\", 10, \"Ten\")"
   ]
  },
  {
   "cell_type": "code",
   "execution_count": 6,
   "id": "83d7c430-afac-46fa-a24a-03d05b197662",
   "metadata": {},
   "outputs": [
    {
     "name": "stdout",
     "output_type": "stream",
     "text": [
      "12:Twelve:10:Ten\n"
     ]
    }
   ],
   "source": [
    "print(12,\"Twelve\", 10, \"Ten\", sep=\":\")"
   ]
  },
  {
   "cell_type": "markdown",
   "id": "f30bab6e-7e34-4513-9cc3-74a24f310cbe",
   "metadata": {},
   "source": [
    "**To print Single Variables**"
   ]
  },
  {
   "cell_type": "code",
   "execution_count": 7,
   "id": "db2173a0-7a5f-4358-8bab-8414dffb72a6",
   "metadata": {},
   "outputs": [
    {
     "name": "stdout",
     "output_type": "stream",
     "text": [
      "12\n"
     ]
    }
   ],
   "source": [
    "a = 12 \n",
    "print(a)"
   ]
  },
  {
   "cell_type": "code",
   "execution_count": 8,
   "id": "91acb3d0-23d7-492c-81b8-20f47dbc059c",
   "metadata": {},
   "outputs": [
    {
     "name": "stdout",
     "output_type": "stream",
     "text": [
      "Hello World!\n"
     ]
    }
   ],
   "source": [
    "x = \"Hello World!\"\n",
    "print(x)"
   ]
  },
  {
   "cell_type": "markdown",
   "id": "95cc985f-f8e4-4658-97b3-46fa286ae458",
   "metadata": {},
   "source": [
    "**To print Multiple Variables**"
   ]
  },
  {
   "cell_type": "code",
   "execution_count": 11,
   "id": "4fce83fd-c6c9-4555-89bb-4f63372296a2",
   "metadata": {},
   "outputs": [
    {
     "name": "stdout",
     "output_type": "stream",
     "text": [
      "4 8\n"
     ]
    }
   ],
   "source": [
    "a,b= 4,8\n",
    "print(a,b)"
   ]
  },
  {
   "cell_type": "code",
   "execution_count": 13,
   "id": "d4924ea8-d6a8-431a-bf2b-c320be87ddb3",
   "metadata": {},
   "outputs": [
    {
     "name": "stdout",
     "output_type": "stream",
     "text": [
      "91.3/Komal/True\n"
     ]
    }
   ],
   "source": [
    "x,y,z = 91.3 , \"Komal\" ,True\n",
    "print(x,y,z, sep=\"/\")"
   ]
  },
  {
   "cell_type": "markdown",
   "id": "26cd5bcb-1a43-4365-8128-005abf77d42c",
   "metadata": {},
   "source": [
    "**To Print Combination of Values & Variables**"
   ]
  },
  {
   "cell_type": "code",
   "execution_count": 14,
   "id": "d19e3a66-721d-4919-a39e-f0c9ee2bef79",
   "metadata": {},
   "outputs": [
    {
     "name": "stdout",
     "output_type": "stream",
     "text": [
      "the square root of 2: 4\n"
     ]
    }
   ],
   "source": [
    "a = 4\n",
    "print(\"the square root of 2:\", a)"
   ]
  },
  {
   "cell_type": "code",
   "execution_count": 16,
   "id": "078fb74f-79bb-45e9-8a0a-5d9b432b7abe",
   "metadata": {},
   "outputs": [
    {
     "name": "stdout",
     "output_type": "stream",
     "text": [
      "My name is komal\n"
     ]
    }
   ],
   "source": [
    "name = \"komal\"\n",
    "print(\"My name is\" , name)"
   ]
  },
  {
   "cell_type": "markdown",
   "id": "a4070200-6dc7-44ee-b6d4-9fb60da90777",
   "metadata": {},
   "source": [
    "**To delete a Variable**"
   ]
  },
  {
   "cell_type": "code",
   "execution_count": 19,
   "id": "97576e73-2493-4a54-8778-acb34316fb91",
   "metadata": {},
   "outputs": [],
   "source": [
    "t = 40 \n",
    "del t"
   ]
  },
  {
   "cell_type": "code",
   "execution_count": 20,
   "id": "e6258290-a526-4e38-9fec-517747bb4dce",
   "metadata": {},
   "outputs": [],
   "source": [
    "y,z,x = 21,34.7, 98\n",
    "del y, z"
   ]
  },
  {
   "cell_type": "markdown",
   "id": "bbe2f76a-9f41-474a-97ac-0fdb8a8c812e",
   "metadata": {},
   "source": [
    "**Format Function**"
   ]
  },
  {
   "cell_type": "code",
   "execution_count": 22,
   "id": "2548e732-070f-409c-8eb8-e887334816f2",
   "metadata": {},
   "outputs": [
    {
     "name": "stdout",
     "output_type": "stream",
     "text": [
      "my name is komal , and I got cgpa 9.03\n"
     ]
    }
   ],
   "source": [
    "name = \"komal\"\n",
    "CGPA = 9.03 \n",
    "print(\"my name is {} , and I got cgpa {}\" .format(name,CGPA))"
   ]
  },
  {
   "cell_type": "code",
   "execution_count": 23,
   "id": "d402acbd-f4fa-4b94-b0f6-4e08306ec305",
   "metadata": {},
   "outputs": [
    {
     "name": "stdout",
     "output_type": "stream",
     "text": [
      "Name of the company is Infosys, and ID is 10050\n"
     ]
    }
   ],
   "source": [
    "com = \"Infosys\"\n",
    "ID = 10050\n",
    "print(\"Name of the company is {}, and ID is {}\" .format(com,ID))"
   ]
  },
  {
   "cell_type": "markdown",
   "id": "9555aecf-0d1e-4d08-92e7-20ad20e796e5",
   "metadata": {},
   "source": [
    "**To check the DataTypes of Variable**"
   ]
  },
  {
   "cell_type": "code",
   "execution_count": 26,
   "id": "b18e10fa-04e8-439e-ba49-162e10bd4bf3",
   "metadata": {},
   "outputs": [
    {
     "name": "stdout",
     "output_type": "stream",
     "text": [
      "45\n"
     ]
    }
   ],
   "source": [
    "k = 45\n",
    "print(k)"
   ]
  },
  {
   "cell_type": "code",
   "execution_count": 27,
   "id": "8752d87e-2078-4e29-876f-48d50991a841",
   "metadata": {},
   "outputs": [
    {
     "data": {
      "text/plain": [
       "int"
      ]
     },
     "execution_count": 27,
     "metadata": {},
     "output_type": "execute_result"
    }
   ],
   "source": [
    "type(k)"
   ]
  },
  {
   "cell_type": "code",
   "execution_count": 29,
   "id": "4a98a820-db25-4d6e-ac74-f12785c0fe63",
   "metadata": {},
   "outputs": [
    {
     "data": {
      "text/plain": [
       "str"
      ]
     },
     "execution_count": 29,
     "metadata": {},
     "output_type": "execute_result"
    }
   ],
   "source": [
    "o = \"Name\"                           #string datatype\n",
    "type(o)"
   ]
  },
  {
   "cell_type": "code",
   "execution_count": 30,
   "id": "5be841bf-9697-48c8-ac2c-58964a19aa47",
   "metadata": {},
   "outputs": [
    {
     "data": {
      "text/plain": [
       "bool"
      ]
     },
     "execution_count": 30,
     "metadata": {},
     "output_type": "execute_result"
    }
   ],
   "source": [
    "p = False\n",
    "type(p)"
   ]
  },
  {
   "cell_type": "markdown",
   "id": "630b05e4-9bbd-42f8-8a14-47e5d8b0ad95",
   "metadata": {},
   "source": [
    "**Contatination**"
   ]
  },
  {
   "cell_type": "code",
   "execution_count": 31,
   "id": "a5b0db4b-e457-4efe-85e1-3b39a42fe3a3",
   "metadata": {},
   "outputs": [
    {
     "data": {
      "text/plain": [
       "'HelloWorld'"
      ]
     },
     "execution_count": 31,
     "metadata": {},
     "output_type": "execute_result"
    }
   ],
   "source": [
    "\"Hello\" + \"World\""
   ]
  },
  {
   "cell_type": "code",
   "execution_count": 32,
   "id": "6caa38a9-52fd-4118-9b5e-1540cc8448ab",
   "metadata": {},
   "outputs": [
    {
     "data": {
      "text/plain": [
       "'Hello World'"
      ]
     },
     "execution_count": 32,
     "metadata": {},
     "output_type": "execute_result"
    }
   ],
   "source": [
    "\"Hello\" +\" \"+ \"World\""
   ]
  },
  {
   "cell_type": "code",
   "execution_count": 33,
   "id": "9aee2e9e-254c-470e-9ac8-f1a524d79970",
   "metadata": {},
   "outputs": [
    {
     "data": {
      "text/plain": [
       "'helloworld'"
      ]
     },
     "execution_count": 33,
     "metadata": {},
     "output_type": "execute_result"
    }
   ],
   "source": [
    "a = \"hello\"\n",
    "b = \"world\" \n",
    "a+b"
   ]
  },
  {
   "cell_type": "code",
   "execution_count": 37,
   "id": "214ab60a-7c2e-4f6c-bd3a-8f1919edebdb",
   "metadata": {},
   "outputs": [
    {
     "data": {
      "text/plain": [
       "'Hello World'"
      ]
     },
     "execution_count": 37,
     "metadata": {},
     "output_type": "execute_result"
    }
   ],
   "source": [
    "a = \"Hello\"\n",
    "b = \"World\" \n",
    "a+ \" \" + b"
   ]
  },
  {
   "cell_type": "code",
   "execution_count": null,
   "id": "24f67692-86a3-4bd2-8671-705afb26a98f",
   "metadata": {},
   "outputs": [],
   "source": []
  }
 ],
 "metadata": {
  "kernelspec": {
   "display_name": "Python 3 (ipykernel)",
   "language": "python",
   "name": "python3"
  },
  "language_info": {
   "codemirror_mode": {
    "name": "ipython",
    "version": 3
   },
   "file_extension": ".py",
   "mimetype": "text/x-python",
   "name": "python",
   "nbconvert_exporter": "python",
   "pygments_lexer": "ipython3",
   "version": "3.12.4"
  }
 },
 "nbformat": 4,
 "nbformat_minor": 5
}
