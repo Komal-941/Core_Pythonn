{
 "cells": [
  {
   "cell_type": "code",
   "execution_count": 1,
   "id": "5fc5fd58-b154-4fe8-8140-7e6a227c3508",
   "metadata": {},
   "outputs": [],
   "source": [
    "# if we want a data from user (which may vary from user to user ) there is inbuilt function called Input\n",
    "# by default it will take input as str datatype "
   ]
  },
  {
   "cell_type": "code",
   "execution_count": 2,
   "id": "c11a18dd-05a9-4bc7-b149-f3f76ef866db",
   "metadata": {},
   "outputs": [
    {
     "name": "stdin",
     "output_type": "stream",
     "text": [
      "enter your name : komal\n"
     ]
    },
    {
     "name": "stdout",
     "output_type": "stream",
     "text": [
      "komal\n"
     ]
    }
   ],
   "source": [
    "a = input(\"enter your name :\")\n",
    "print(a)"
   ]
  },
  {
   "cell_type": "code",
   "execution_count": 3,
   "id": "a2aa610e-a6e0-4fa3-90e2-7f4437218f08",
   "metadata": {},
   "outputs": [
    {
     "name": "stdin",
     "output_type": "stream",
     "text": [
      "ID: 100\n"
     ]
    },
    {
     "data": {
      "text/plain": [
       "'100'"
      ]
     },
     "execution_count": 3,
     "metadata": {},
     "output_type": "execute_result"
    }
   ],
   "source": [
    "x = input(\"ID:\")\n",
    "x"
   ]
  },
  {
   "cell_type": "code",
   "execution_count": 7,
   "id": "70e09fec-370b-4bd7-93d2-6403d38649f8",
   "metadata": {},
   "outputs": [
    {
     "data": {
      "text/plain": [
       "str"
      ]
     },
     "execution_count": 7,
     "metadata": {},
     "output_type": "execute_result"
    }
   ],
   "source": [
    "type(x)"
   ]
  },
  {
   "cell_type": "code",
   "execution_count": 4,
   "id": "533582af-d836-442c-91e6-c1c5eb41b3be",
   "metadata": {},
   "outputs": [],
   "source": [
    "#Eval Function is used when we want to give input apart frm strng ;\n",
    "#this eval function evalute the values automatically ; no need to put datatype beofre input"
   ]
  },
  {
   "cell_type": "code",
   "execution_count": 5,
   "id": "40d338ee-2bb9-48af-bb7f-0727ffd17eaf",
   "metadata": {},
   "outputs": [
    {
     "name": "stdin",
     "output_type": "stream",
     "text": [
      "Put a Mob.No. 1002003456\n"
     ]
    },
    {
     "data": {
      "text/plain": [
       "1002003456"
      ]
     },
     "execution_count": 5,
     "metadata": {},
     "output_type": "execute_result"
    }
   ],
   "source": [
    "a= eval(input(\"Put a Mob.No.\"))\n",
    "a"
   ]
  },
  {
   "cell_type": "code",
   "execution_count": 6,
   "id": "077036ee-869c-43e7-891e-e87dc164bf09",
   "metadata": {},
   "outputs": [
    {
     "data": {
      "text/plain": [
       "int"
      ]
     },
     "execution_count": 6,
     "metadata": {},
     "output_type": "execute_result"
    }
   ],
   "source": [
    "type(a)"
   ]
  },
  {
   "cell_type": "code",
   "execution_count": 8,
   "id": "4170989b-2f11-4514-88c4-1832b0a88a46",
   "metadata": {},
   "outputs": [
    {
     "name": "stdin",
     "output_type": "stream",
     "text": [
      " 45.7\n"
     ]
    },
    {
     "name": "stdout",
     "output_type": "stream",
     "text": [
      "45.7\n",
      "<class 'float'>\n"
     ]
    }
   ],
   "source": [
    "I= eval(input())\n",
    "print(I)\n",
    "print(type(I))"
   ]
  },
  {
   "cell_type": "code",
   "execution_count": null,
   "id": "82a70438-4972-49b3-9d2d-c4bdbb99fd58",
   "metadata": {},
   "outputs": [],
   "source": []
  }
 ],
 "metadata": {
  "kernelspec": {
   "display_name": "Python 3 (ipykernel)",
   "language": "python",
   "name": "python3"
  },
  "language_info": {
   "codemirror_mode": {
    "name": "ipython",
    "version": 3
   },
   "file_extension": ".py",
   "mimetype": "text/x-python",
   "name": "python",
   "nbconvert_exporter": "python",
   "pygments_lexer": "ipython3",
   "version": "3.12.4"
  }
 },
 "nbformat": 4,
 "nbformat_minor": 5
}
