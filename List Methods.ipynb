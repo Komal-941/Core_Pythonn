{
 "cells": [
  {
   "cell_type": "markdown",
   "id": "42dff5e4-38aa-4c80-ac8c-f3d594b44237",
   "metadata": {},
   "source": [
    "# List Methods"
   ]
  },
  {
   "cell_type": "markdown",
   "id": "380ce1f0-0c33-48e5-9ab7-e9b844a2a1d5",
   "metadata": {},
   "source": [
    "**1.list.append()**\n",
    "- Only 1 item can add and at the end only"
   ]
  },
  {
   "cell_type": "code",
   "execution_count": 67,
   "id": "54a58a71-da95-443f-a3b0-5bf379b53f29",
   "metadata": {},
   "outputs": [],
   "source": [
    "t= [12.4, 56, \"science\", 45, True ]"
   ]
  },
  {
   "cell_type": "code",
   "execution_count": 69,
   "id": "7b3a931c-57ff-499a-8cf7-3c9a0ea52ff3",
   "metadata": {},
   "outputs": [
    {
     "name": "stdout",
     "output_type": "stream",
     "text": [
      "[12.4, 56, 'science', 45, True, False]\n"
     ]
    }
   ],
   "source": [
    "t.append(False)\n",
    "print(t)"
   ]
  },
  {
   "cell_type": "code",
   "execution_count": 70,
   "id": "e150b59b-aa4a-4356-88c2-bcc624b3a422",
   "metadata": {},
   "outputs": [
    {
     "name": "stdout",
     "output_type": "stream",
     "text": [
      "[12.4, 56, 'science', 45, True, ['Ks', 9, 4, 2001, 23.5]]\n"
     ]
    }
   ],
   "source": [
    "t1= [12.4, 56, \"science\", 45, True ]          # we have added a list as a single item in main list\n",
    "\n",
    "t1.append([\"Ks\",9,4,2001,23.5])\n",
    "print(t1)"
   ]
  },
  {
   "cell_type": "markdown",
   "id": "a3655454-ef0a-4272-b7da-1fdd1a44c666",
   "metadata": {},
   "source": [
    "**2.list.extend()**\n",
    "- can add multiple item and it will add each item at the end\n",
    "- whatever item need to add , make a list of them and apply extend()"
   ]
  },
  {
   "cell_type": "code",
   "execution_count": 72,
   "id": "5d6c033f-8b03-42d5-b632-0e4d8a2f4acd",
   "metadata": {},
   "outputs": [
    {
     "name": "stdout",
     "output_type": "stream",
     "text": [
      "['Shelar', 10, 34.7, False, True, 89, 'Komal', 23.4, 87.6]\n"
     ]
    }
   ],
   "source": [
    " r= [\"Shelar\",10,34.7,False ] \n",
    "\n",
    "r.extend([True, 89,\"Komal\", 23.4, 87.6]) \n",
    "print(r)"
   ]
  },
  {
   "cell_type": "code",
   "execution_count": 73,
   "id": "1b484bd2-a78a-434a-8667-83497d6c3b34",
   "metadata": {},
   "outputs": [
    {
     "data": {
      "text/plain": [
       "list"
      ]
     },
     "execution_count": 73,
     "metadata": {},
     "output_type": "execute_result"
    }
   ],
   "source": [
    "type(r)"
   ]
  },
  {
   "cell_type": "code",
   "execution_count": 75,
   "id": "64d4fa84-a073-48b9-b765-f665f2fd2b50",
   "metadata": {},
   "outputs": [
    {
     "name": "stdout",
     "output_type": "stream",
     "text": [
      "[10, 3.5, 76, 'Da', 98, 23.8]\n"
     ]
    }
   ],
   "source": [
    "e = [ 10 , 3.5, 76]\n",
    "\n",
    "e.extend([\"Da\", 98,23.8])\n",
    "print(e)"
   ]
  },
  {
   "cell_type": "markdown",
   "id": "e4502329-64b7-477e-9ac4-e4e49e19e024",
   "metadata": {},
   "source": [
    "**3.list.insert()**\n",
    "- will add the item at specific position as we want"
   ]
  },
  {
   "cell_type": "code",
   "execution_count": 5,
   "id": "2110a9af-a6af-4cbd-b25a-8b2573e167ef",
   "metadata": {},
   "outputs": [
    {
     "name": "stdout",
     "output_type": "stream",
     "text": [
      "['Komal', 'Shelar']\n"
     ]
    }
   ],
   "source": [
    "k= [\"Komal\", \"Shelar\"]\n",
    "print(k)"
   ]
  },
  {
   "cell_type": "code",
   "execution_count": 6,
   "id": "16ff2488-30d3-4503-b01d-fcb4a6c5ba2c",
   "metadata": {},
   "outputs": [
    {
     "name": "stdout",
     "output_type": "stream",
     "text": [
      "['Komal', 'Sopan', 'Shelar']\n"
     ]
    }
   ],
   "source": [
    "k.insert(1, \"Sopan\")\n",
    "print(k)"
   ]
  },
  {
   "cell_type": "code",
   "execution_count": 7,
   "id": "d05b43bb-8a52-4166-a38e-a86d5ce5dfab",
   "metadata": {},
   "outputs": [
    {
     "name": "stdout",
     "output_type": "stream",
     "text": [
      "['Komal', 'Sopan', 'Shelar', 7721062452]\n"
     ]
    }
   ],
   "source": [
    "k.insert(3, 7721062452)\n",
    "print(k)"
   ]
  },
  {
   "cell_type": "markdown",
   "id": "72e5dda9-665b-4d68-a5d7-0413f768d75f",
   "metadata": {},
   "source": [
    "**4.list.remove()**\n",
    "- Remove the item (only one at a time)\n",
    "- if value is repeated it will remove the first value"
   ]
  },
  {
   "cell_type": "code",
   "execution_count": 86,
   "id": "0e041041-269c-44a3-80b3-55d0b63a59f9",
   "metadata": {},
   "outputs": [
    {
     "name": "stdout",
     "output_type": "stream",
     "text": [
      "[2, 6, 7, 6, 4, 2]\n"
     ]
    }
   ],
   "source": [
    "j=[2,4,6,7,6,4,2]\n",
    "\n",
    "j.remove(4)\n",
    "print(j)"
   ]
  },
  {
   "cell_type": "markdown",
   "id": "702b20d0-075c-4e92-96fb-f27749ea2f65",
   "metadata": {},
   "source": [
    "**To remove all repetative values**"
   ]
  },
  {
   "cell_type": "code",
   "execution_count": 104,
   "id": "1197bdb3-8749-4b81-9993-2fdb9aa4e5fe",
   "metadata": {},
   "outputs": [
    {
     "name": "stdout",
     "output_type": "stream",
     "text": [
      "[10, 20, 20, 10, 20, 101, 30, 70, 10, 10, 20]\n"
     ]
    }
   ],
   "source": [
    "\n",
    "f= [10,20,20,10,20,101,30,70,10,10,20,]\n",
    "print(f)"
   ]
  },
  {
   "cell_type": "code",
   "execution_count": 105,
   "id": "51d01762-8836-4e24-8f14-49bb027cf162",
   "metadata": {},
   "outputs": [
    {
     "name": "stdout",
     "output_type": "stream",
     "text": [
      "[20, 20, 10, 20, 101, 30, 70, 10, 10, 20]\n"
     ]
    }
   ],
   "source": [
    "f.remove(10)                            #it will remove the first 10 only \n",
    "print(f)"
   ]
  },
  {
   "cell_type": "code",
   "execution_count": 8,
   "id": "ffe59e18-de09-4f09-80ef-f7065ea0e9b0",
   "metadata": {},
   "outputs": [
    {
     "name": "stdout",
     "output_type": "stream",
     "text": [
      "[101, 70, 20, 30]\n"
     ]
    }
   ],
   "source": [
    "n= [10,20,20,10,20,101,30,70,10,10,20,] \n",
    "\n",
    "n=list(set(n))\n",
    "n.remove(10)                            #it will remove the all 10 values\n",
    "print(n)"
   ]
  },
  {
   "cell_type": "markdown",
   "id": "9224f7c8-1723-4c01-a2fd-0c0a625af9a5",
   "metadata": {},
   "source": [
    "**5.list.pop()**\n",
    "- it will remove the item using index number\n",
    "- if the index number is not given will take -1 as by default "
   ]
  },
  {
   "cell_type": "code",
   "execution_count": 89,
   "id": "7713c3b8-cfd3-4fd3-b325-ecf2a88d2194",
   "metadata": {},
   "outputs": [
    {
     "name": "stdout",
     "output_type": "stream",
     "text": [
      "[12.4, 56.7, 21, 'Komal']\n"
     ]
    }
   ],
   "source": [
    "h=[12.4,56.7,21,\"Komal\", \"Shelar\"]\n",
    "\n",
    "h.pop()                 #by default will remove last value\n",
    "print(h)"
   ]
  },
  {
   "cell_type": "code",
   "execution_count": 90,
   "id": "efd067ea-1acc-4d9c-9586-85e51d0e84ca",
   "metadata": {},
   "outputs": [
    {
     "name": "stdout",
     "output_type": "stream",
     "text": [
      "[12.4, 56.7, 21]\n"
     ]
    }
   ],
   "source": [
    "h.pop(3)\n",
    "print(h)"
   ]
  },
  {
   "cell_type": "markdown",
   "id": "1a29537f-2ec9-4fe0-aedb-2725a2a30a7e",
   "metadata": {},
   "source": [
    "**6.list.clear**\n",
    "- will empty the list (only values inside the list are deleted)"
   ]
  },
  {
   "cell_type": "code",
   "execution_count": 107,
   "id": "9d76819a-758d-412d-98b6-b0e5019f1b84",
   "metadata": {},
   "outputs": [
    {
     "name": "stdout",
     "output_type": "stream",
     "text": [
      "[]\n"
     ]
    }
   ],
   "source": [
    "l=[1,2,3,4]\n",
    "l.clear()\n",
    "print(l)"
   ]
  },
  {
   "cell_type": "markdown",
   "id": "ae480af7-04a8-40fa-8bbb-3eecf8489572",
   "metadata": {},
   "source": [
    "**7.list.del()**\n",
    "- it will delete the whole thing "
   ]
  },
  {
   "cell_type": "code",
   "execution_count": 111,
   "id": "f2613367-fd9e-40d3-a715-cb24be821853",
   "metadata": {},
   "outputs": [],
   "source": [
    "r= [3.4,5,True]\n",
    "\n",
    "del r"
   ]
  },
  {
   "cell_type": "markdown",
   "id": "ff17b81f-b74c-4677-85a4-498b1b330719",
   "metadata": {},
   "source": [
    "**8.list.count**\n",
    "- will count the repeatative values"
   ]
  },
  {
   "cell_type": "code",
   "execution_count": 113,
   "id": "854eb677-9a7a-41ff-b1a0-2af65d51eacf",
   "metadata": {},
   "outputs": [
    {
     "data": {
      "text/plain": [
       "6"
      ]
     },
     "execution_count": 113,
     "metadata": {},
     "output_type": "execute_result"
    }
   ],
   "source": [
    "o=[1,2,3,4,1,3,2,6,4,2,7,1,3,1,3,2,1,1]\n",
    "o.count(1)"
   ]
  },
  {
   "cell_type": "markdown",
   "id": "3d2a7273-8c7c-442b-9f01-1483d71a67e6",
   "metadata": {},
   "source": [
    "**9.list.reverse()**\n",
    "- will reverse all the items in list"
   ]
  },
  {
   "cell_type": "code",
   "execution_count": 118,
   "id": "7e026c02-a197-4944-bc4e-41942f17e113",
   "metadata": {},
   "outputs": [
    {
     "name": "stdout",
     "output_type": "stream",
     "text": [
      "['komal', [23, 32], 20, 12]\n"
     ]
    }
   ],
   "source": [
    "a = [12,20,[23,32],\"komal\"]\n",
    "\n",
    "a.reverse()\n",
    "print(a)"
   ]
  },
  {
   "cell_type": "markdown",
   "id": "bb73299d-9fd4-4c08-9f3d-3d1abe1eff18",
   "metadata": {},
   "source": [
    "**10.list.sort**\n",
    "- will sort the list in ascending or descending order\n",
    "- by default it will take ascending"
   ]
  },
  {
   "cell_type": "code",
   "execution_count": 122,
   "id": "02a654f5-0255-4640-b363-0d0a822590e6",
   "metadata": {},
   "outputs": [
    {
     "name": "stdout",
     "output_type": "stream",
     "text": [
      "[1, 2.3, 3, 6.7, 7, 9]\n"
     ]
    }
   ],
   "source": [
    "k = [1,7,3,6.7,9,2.3]\n",
    "k.sort()\n",
    "print(k)                #ascending order --> min to max"
   ]
  },
  {
   "cell_type": "code",
   "execution_count": 124,
   "id": "85224e5c-b050-4b0a-804f-207b748029fb",
   "metadata": {},
   "outputs": [
    {
     "name": "stdout",
     "output_type": "stream",
     "text": [
      "[9, 7, 6.7, 3, 2.3, 1]\n"
     ]
    }
   ],
   "source": [
    "k = [1,7,3,6.7,9,2.3]\n",
    "k.sort(reverse= True)                # descending order --> max to min\n",
    "print(k)"
   ]
  },
  {
   "cell_type": "markdown",
   "id": "9a2451ad-72fb-4c42-bcb8-a800fee971f8",
   "metadata": {},
   "source": [
    "**11.list.copy**\n",
    "- Deep Copy -  values and id are same\n",
    "- Shallow Copy - values are same but ids are diffrent as it will create another object"
   ]
  },
  {
   "cell_type": "code",
   "execution_count": 131,
   "id": "0cd2fb7c-af9f-48ff-b60c-60c63596775f",
   "metadata": {},
   "outputs": [
    {
     "name": "stdout",
     "output_type": "stream",
     "text": [
      "[1, 2, 3, 4, 5]\n",
      "[1, 2, 3, 4, 5]\n"
     ]
    }
   ],
   "source": [
    "#deep copy\n",
    "a=[1,2,3,4]\n",
    "b=a\n",
    "b.append(5)\n",
    "print(a)\n",
    "print(b)"
   ]
  },
  {
   "cell_type": "code",
   "execution_count": 2,
   "id": "6e3a4381-dac1-4a60-b418-d7f58c65e909",
   "metadata": {},
   "outputs": [
    {
     "name": "stdout",
     "output_type": "stream",
     "text": [
      "[1, 2, 3, 4]\n",
      "[1, 2, 3, 4, 5]\n"
     ]
    }
   ],
   "source": [
    "#shallow copy\n",
    "a=[1,2,3,4]\n",
    "b=a.copy()\n",
    "b.append(5)\n",
    "print(a)\n",
    "print(b)"
   ]
  },
  {
   "cell_type": "code",
   "execution_count": null,
   "id": "e7512834-07ef-4238-9305-f80f80bb485f",
   "metadata": {},
   "outputs": [],
   "source": []
  }
 ],
 "metadata": {
  "kernelspec": {
   "display_name": "Python 3 (ipykernel)",
   "language": "python",
   "name": "python3"
  },
  "language_info": {
   "codemirror_mode": {
    "name": "ipython",
    "version": 3
   },
   "file_extension": ".py",
   "mimetype": "text/x-python",
   "name": "python",
   "nbconvert_exporter": "python",
   "pygments_lexer": "ipython3",
   "version": "3.12.4"
  }
 },
 "nbformat": 4,
 "nbformat_minor": 5
}
