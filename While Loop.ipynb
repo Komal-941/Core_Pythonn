{
 "cells": [
  {
   "cell_type": "markdown",
   "id": "684ccf21-e8d3-4a51-8010-31ecba5ccff2",
   "metadata": {},
   "source": [
    "# While Loop\n"
   ]
  },
  {
   "cell_type": "code",
   "execution_count": 4,
   "id": "8f451d8c-a0ef-4006-a04b-b810b2c15bf3",
   "metadata": {},
   "outputs": [
    {
     "name": "stdout",
     "output_type": "stream",
     "text": [
      "Ks\n",
      "Ks\n"
     ]
    }
   ],
   "source": [
    "x=1                #in while          #again it will check for while since it is a LOOP #again it will check for while since it is a \n",
    "while x<3:         #1<3 (True codn)   #2<3 (True codn)                                  #3<3(False Condn)\n",
    "    print(\"Ks\")    #ks printed        #ks printed                                       #so the condn will fail and will stop execution\n",
    "    x = x+1        #x = 1+1 =2        #x = 2+1 =3\n",
    "                   #Ks will be printed for twice"
   ]
  },
  {
   "cell_type": "code",
   "execution_count": 8,
   "id": "3f2b048c-8912-4e32-b272-3f016a15e08a",
   "metadata": {},
   "outputs": [
    {
     "name": "stdout",
     "output_type": "stream",
     "text": [
      "telusko\n",
      "rocks\n",
      "rocks\n",
      "rocks\n",
      "rocks\n",
      "rocks\n",
      "telusko\n",
      "telusko\n",
      "telusko\n",
      "telusko\n"
     ]
    }
   ],
   "source": [
    "#nested while ---> while in a while\n",
    "#we wanna  print two values for 5 times\n",
    "i=1   \n",
    "j = 1\n",
    "while i<=5:         \n",
    "    print(\"telusko\")\n",
    "    i= i+1\n",
    "    while j <=5:\n",
    "        print(\"rocks\")\n",
    "        j =  j+1         # first it will enter to a 2nd while condn(inner loop) complete the loop condn and then again will go first while condn"
   ]
  },
  {
   "cell_type": "code",
   "execution_count": 9,
   "id": "05a2cf2b-ee5f-4582-b7f7-8a03fbb77db8",
   "metadata": {},
   "outputs": [
    {
     "name": "stdout",
     "output_type": "stream",
     "text": [
      "telusko rocks rocks rocks rocks rocks \n",
      "telusko rocks rocks rocks rocks rocks \n",
      "telusko rocks rocks rocks rocks rocks \n",
      "telusko rocks rocks rocks rocks rocks \n",
      "telusko rocks rocks rocks rocks rocks \n"
     ]
    }
   ],
   "source": [
    "i=1   \n",
    "\n",
    "while i<=5:         \n",
    "    print(\"telusko\", end=\" \")\n",
    "    j = 1\n",
    "    while j <=5:\n",
    "        print(\"rocks\",end=\" \")\n",
    "        j =  j+1\n",
    "    i= i+1\n",
    "    print()"
   ]
  },
  {
   "cell_type": "code",
   "execution_count": 10,
   "id": "0655a39a-d919-4fa3-b65b-b81c6eb3e1ca",
   "metadata": {},
   "outputs": [
    {
     "name": "stdout",
     "output_type": "stream",
     "text": [
      "Ks\n",
      "Ks\n",
      "Ks\n",
      "Ks\n",
      "Ks\n",
      "Ks\n",
      "Ks\n"
     ]
    }
   ],
   "source": [
    "print(\"Ks\")\n",
    "print(\"Ks\")\n",
    "print(\"Ks\")\n",
    "print(\"Ks\")\n",
    "print(\"Ks\")\n",
    "print(\"Ks\")\n",
    "print(\"Ks\")"
   ]
  },
  {
   "cell_type": "code",
   "execution_count": 11,
   "id": "107a9674-f1b6-4ffe-83d4-d3beb5816d92",
   "metadata": {},
   "outputs": [
    {
     "name": "stdout",
     "output_type": "stream",
     "text": [
      "Ks\n",
      "Ks\n",
      "Ks\n",
      "Ks\n",
      "Ks\n",
      "Ks\n",
      "Ks\n"
     ]
    }
   ],
   "source": [
    "#instead of writing a same line for multiple times and gets printed we cando a looop \n",
    "\n",
    "x=1\n",
    "while x<=7:\n",
    "    print(\"Ks\")\n",
    "    x=x+1            #the another method to print same line for many times"
   ]
  },
  {
   "cell_type": "code",
   "execution_count": 12,
   "id": "2ed78a14-2016-4ccc-9d86-5995291846a3",
   "metadata": {},
   "outputs": [
    {
     "name": "stdout",
     "output_type": "stream",
     "text": [
      "DA\n",
      "DA\n"
     ]
    }
   ],
   "source": [
    "#in this we have implimented 2 condns\n",
    "#firstly 1<5 condn satisfies so the DA will print---->DA\n",
    "# now x = 2\n",
    "#2==3 condn fails so it will again go for while block\n",
    "#2<5 condn satisfies so the DA will print ----->DA\n",
    "#now x = 3\n",
    "#3==3 condn satisfies and the break the condn\n",
    "\n",
    "\n",
    "x = 1\n",
    "\n",
    "while x<5:\n",
    "    print(\"DA\")\n",
    "    x= x+1\n",
    "    if x==3:\n",
    "        break "
   ]
  },
  {
   "cell_type": "markdown",
   "id": "042240ac-ddf8-40f2-9e84-624682b3c5db",
   "metadata": {},
   "source": [
    "**While True - it is infinite loop . thi will stop using break only**"
   ]
  },
  {
   "cell_type": "code",
   "execution_count": 13,
   "id": "37e84fcc-f975-434d-a45c-015f68c2b0cd",
   "metadata": {},
   "outputs": [
    {
     "name": "stdout",
     "output_type": "stream",
     "text": [
      "1 Komal\n",
      "2 Komal\n",
      "3 Komal\n",
      "4 Komal\n",
      "5 Komal\n",
      "6 Komal\n"
     ]
    }
   ],
   "source": [
    "x=1\n",
    "while True :\n",
    "    print(x,\"Komal\")\n",
    "    if x==6:\n",
    "        break\n",
    "    x=x+1\n",
    "    "
   ]
  },
  {
   "cell_type": "markdown",
   "id": "5c4406ef-460d-40ff-b0b1-e8a482d27339",
   "metadata": {},
   "source": [
    "Q. check for the student named a mahesh"
   ]
  },
  {
   "cell_type": "code",
   "execution_count": 14,
   "id": "5495d93c-cee0-4733-8f0a-c9224aa2be4d",
   "metadata": {},
   "outputs": [
    {
     "name": "stdin",
     "output_type": "stream",
     "text": [
      "Enter the name : komal\n",
      "Enter the name : shelar\n",
      "Enter the name : mahesh\n"
     ]
    }
   ],
   "source": [
    "while True:                   # it will ask for input until the if condn satisfies\n",
    "    name = input(\"Enter the name :\")\n",
    "    if name ==\"Mahesh\" or name==\"mahesh\":\n",
    "        break"
   ]
  },
  {
   "cell_type": "code",
   "execution_count": 15,
   "id": "d0ab904a-be84-4bf1-9154-bd8e889decb0",
   "metadata": {},
   "outputs": [
    {
     "name": "stdout",
     "output_type": "stream",
     "text": [
      "DA\n",
      "DA\n",
      "DA\n",
      "DA\n",
      "DA\n"
     ]
    }
   ],
   "source": [
    "x=1                    #DA -->x=1 ;x<=10 and x<=-20\n",
    "while x<=10:           #DA -->x=-4 ;x<=10 and x<=-20\n",
    "    print(\"DA\")        #DA -->x=-9 ;x<=10 and x<=-20\n",
    "    x= x-5             #DA -->x=-14 ;x<=10 and x<=-20\n",
    "    if x<=-20:         #DA -->x=-19 ;x<=10 and x<=-20\n",
    "        break"
   ]
  },
  {
   "cell_type": "code",
   "execution_count": 16,
   "id": "ec9ab048-5548-4272-b179-6c3bc13b728c",
   "metadata": {},
   "outputs": [
    {
     "name": "stdout",
     "output_type": "stream",
     "text": [
      "1 DA\n",
      "2 DA\n",
      "3 DA\n",
      "4 DA\n",
      "5 DA\n",
      "6 DA\n"
     ]
    }
   ],
   "source": [
    "x = 1\n",
    " \n",
    "while x<7:        \n",
    "    print(x,\"DA\")\n",
    "    if x==6:\n",
    "        break \n",
    "    x= x+1\n",
    "    "
   ]
  },
  {
   "cell_type": "markdown",
   "id": "4601bb10-3c2f-4f09-b247-1d2c3cc2c7fb",
   "metadata": {},
   "source": [
    "Q. Ask the user to put a 5 numbers and do sum"
   ]
  },
  {
   "cell_type": "code",
   "execution_count": 17,
   "id": "8a8da3ca-5cec-4b16-bdbf-c6430b08fbd5",
   "metadata": {},
   "outputs": [
    {
     "name": "stdin",
     "output_type": "stream",
     "text": [
      "Enter the number: 2\n",
      "Enter the number: 3\n",
      "Enter the number: 4\n",
      "Enter the number: 5\n",
      "Enter the number: 3\n"
     ]
    },
    {
     "name": "stdout",
     "output_type": "stream",
     "text": [
      "17\n"
     ]
    }
   ],
   "source": [
    "s =0\n",
    "x=1\n",
    "while x<=5:\n",
    "    n=eval(input(\"Enter the number:\"))\n",
    "    s=s+n\n",
    "    x=x+1\n",
    "\n",
    "print(s)"
   ]
  },
  {
   "cell_type": "markdown",
   "id": "c9e7db72-91c8-40dd-993e-08467926befb",
   "metadata": {},
   "source": [
    "**Q.Ask use to enter multiple values and do sum**"
   ]
  },
  {
   "cell_type": "code",
   "execution_count": 19,
   "id": "9c047e1b-6653-481d-b648-a74df88a0e0a",
   "metadata": {},
   "outputs": [
    {
     "name": "stdout",
     "output_type": "stream",
     "text": [
      "Enter all the numbers wanted & once done with all enter a #\n"
     ]
    },
    {
     "name": "stdin",
     "output_type": "stream",
     "text": [
      "Enter the numbers: 1\n",
      "Enter the numbers: 2\n",
      "Enter the numbers: 3\n",
      "Enter the numbers: 4\n",
      "Enter the numbers: #\n"
     ]
    },
    {
     "name": "stdout",
     "output_type": "stream",
     "text": [
      "Sum of all values 10\n"
     ]
    }
   ],
   "source": [
    "print(\"Enter all the numbers wanted & once done with all enter a #\")\n",
    "s=0                                   #if we didn't put a s=0 or assign a value to s it will throw a error\n",
    "while True:                           #as asking for multiple values , it is an infinite loop \n",
    "    n= input(\"Enter the numbers:\")\n",
    "    if n==\"#\":                        #after assign a # to n it cant convert it to any other data type so the error raise\n",
    "        break\n",
    "    s=s+eval(n)\n",
    "print(\"Sum of all values\",s)"
   ]
  },
  {
   "cell_type": "markdown",
   "id": "fe73d49c-3b45-44da-bd08-771dd20cc144",
   "metadata": {},
   "source": [
    "## **while else**\n",
    "\n",
    "- if break executed , else will not execute\n",
    "- if break not  executed , else will execute\n",
    "- "
   ]
  },
  {
   "cell_type": "code",
   "execution_count": 21,
   "id": "7f3f45a2-1468-4c9b-becb-35fc2b39146a",
   "metadata": {},
   "outputs": [
    {
     "name": "stdout",
     "output_type": "stream",
     "text": [
      "DA\n",
      "DA\n",
      "DA\n",
      "DA\n",
      "DA\n",
      "python\n"
     ]
    }
   ],
   "source": [
    "x = 1\n",
    "while x<=5:\n",
    "    print(\"DA\")\n",
    "    x= x+1           #here while condition(while x<=5) fails as x=6; so the break is ot executed \n",
    "    if x==13:        # as written above break is not executed ; elese will execute\n",
    "        break         \n",
    "else:\n",
    "    print(\"python\")  "
   ]
  },
  {
   "cell_type": "code",
   "execution_count": null,
   "id": "f3ee1132-bc2a-43fc-bfdf-f4af98b0b838",
   "metadata": {},
   "outputs": [],
   "source": []
  }
 ],
 "metadata": {
  "kernelspec": {
   "display_name": "Python 3 (ipykernel)",
   "language": "python",
   "name": "python3"
  },
  "language_info": {
   "codemirror_mode": {
    "name": "ipython",
    "version": 3
   },
   "file_extension": ".py",
   "mimetype": "text/x-python",
   "name": "python",
   "nbconvert_exporter": "python",
   "pygments_lexer": "ipython3",
   "version": "3.12.4"
  }
 },
 "nbformat": 4,
 "nbformat_minor": 5
}
