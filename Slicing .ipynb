{
 "cells": [
  {
   "cell_type": "markdown",
   "id": "33f8984c-cbbf-469f-9be8-5a5260e5e364",
   "metadata": {},
   "source": [
    "# slicing\n",
    "- to extract the multiple character values from string\n",
    "- to extract the multiple values from advanced data type\n",
    "- Index error is imposible in this case\n"
   ]
  },
  {
   "cell_type": "markdown",
   "id": "b4572b23-3da3-4db6-800c-f05906db07bf",
   "metadata": {},
   "source": [
    "#### syntax : Variabel_name[start index number (included):ending index number(excluded)] "
   ]
  },
  {
   "cell_type": "markdown",
   "id": "58399562-8b16-4644-8760-993c76d180e0",
   "metadata": {},
   "source": [
    "#### syntax : Variabel_name[starting index number (included):ending index number(excluded): Step]"
   ]
  },
  {
   "cell_type": "code",
   "execution_count": 2,
   "id": "91ea4f00-33ba-4f25-b053-0bd6bd1b7ae7",
   "metadata": {},
   "outputs": [],
   "source": [
    "t = (\"welcome\")"
   ]
  },
  {
   "cell_type": "code",
   "execution_count": 3,
   "id": "c8c67108-e8ff-444f-b4d2-57f5f7d15cb8",
   "metadata": {},
   "outputs": [
    {
     "name": "stdout",
     "output_type": "stream",
     "text": [
      "6\n"
     ]
    }
   ],
   "source": [
    "print(len(t)-1)           #to know the trailing index number"
   ]
  },
  {
   "cell_type": "code",
   "execution_count": 28,
   "id": "749a93fc-bd77-4911-b773-ab6d9cb11c50",
   "metadata": {},
   "outputs": [
    {
     "data": {
      "text/plain": [
       "'welc'"
      ]
     },
     "execution_count": 28,
     "metadata": {},
     "output_type": "execute_result"
    }
   ],
   "source": [
    "t[0:4]"
   ]
  },
  {
   "cell_type": "code",
   "execution_count": 29,
   "id": "8f1532ed-e44d-42da-9334-a669a72a7c2d",
   "metadata": {},
   "outputs": [
    {
     "data": {
      "text/plain": [
       "'elc'"
      ]
     },
     "execution_count": 29,
     "metadata": {},
     "output_type": "execute_result"
    }
   ],
   "source": [
    "t[1:-3:1]     "
   ]
  },
  {
   "cell_type": "code",
   "execution_count": 31,
   "id": "08c6b77d-32e8-4661-b7a8-b921d00a07af",
   "metadata": {},
   "outputs": [
    {
     "data": {
      "text/plain": [
       "''"
      ]
     },
     "execution_count": 31,
     "metadata": {},
     "output_type": "execute_result"
    }
   ],
   "source": [
    "t[-2:0:1]     # given step direct is in posstive dire --> so the there is no value for RHS it shows string as empty"
   ]
  },
  {
   "cell_type": "code",
   "execution_count": 32,
   "id": "f036de57-04cb-44c6-89b9-2414e1f06d57",
   "metadata": {},
   "outputs": [
    {
     "data": {
      "text/plain": [
       "'elcome'"
      ]
     },
     "execution_count": 32,
     "metadata": {},
     "output_type": "execute_result"
    }
   ],
   "source": [
    "t[1:8:1]      # as 8 is an out of range number it will show all the characters avalaible after the starting index number "
   ]
  },
  {
   "cell_type": "code",
   "execution_count": 38,
   "id": "98f586d5-5841-4377-b935-b0a005871e14",
   "metadata": {},
   "outputs": [
    {
     "data": {
      "text/plain": [
       "'mo'"
      ]
     },
     "execution_count": 38,
     "metadata": {},
     "output_type": "execute_result"
    }
   ],
   "source": [
    "t[-2:-4:-1]"
   ]
  },
  {
   "cell_type": "code",
   "execution_count": 40,
   "id": "4e3b8149-0505-486d-9859-60c06245a4dc",
   "metadata": {},
   "outputs": [
    {
     "data": {
      "text/plain": [
       "'mocl'"
      ]
     },
     "execution_count": 40,
     "metadata": {},
     "output_type": "execute_result"
    }
   ],
   "source": [
    "t[5:-6:-1]  #its in negavtive direction"
   ]
  },
  {
   "cell_type": "code",
   "execution_count": 41,
   "id": "f8e26b34-1269-4f6f-a630-44b10b7fd83e",
   "metadata": {},
   "outputs": [
    {
     "data": {
      "text/plain": [
       "''"
      ]
     },
     "execution_count": 41,
     "metadata": {},
     "output_type": "execute_result"
    }
   ],
   "source": [
    "t[2:4:-1] "
   ]
  },
  {
   "cell_type": "code",
   "execution_count": 7,
   "id": "56fa06c0-3b0b-49a8-8be1-66ddd793aace",
   "metadata": {},
   "outputs": [
    {
     "data": {
      "text/plain": [
       "60"
      ]
     },
     "execution_count": 7,
     "metadata": {},
     "output_type": "execute_result"
    }
   ],
   "source": [
    " l=[10,20,[30,40,[50,60,\"hello\"]],80] \n",
    "l[2][2][1]"
   ]
  },
  {
   "cell_type": "code",
   "execution_count": 10,
   "id": "8dfbedba-b24e-4403-94d2-3e1a8279f2ba",
   "metadata": {},
   "outputs": [
    {
     "data": {
      "text/plain": [
       "'hello'"
      ]
     },
     "execution_count": 10,
     "metadata": {},
     "output_type": "execute_result"
    }
   ],
   "source": [
    "l[2][2][-1]"
   ]
  },
  {
   "cell_type": "code",
   "execution_count": null,
   "id": "ec5a5c3d-45a9-4e08-851d-95cd50904a12",
   "metadata": {},
   "outputs": [],
   "source": []
  }
 ],
 "metadata": {
  "kernelspec": {
   "display_name": "Python 3 (ipykernel)",
   "language": "python",
   "name": "python3"
  },
  "language_info": {
   "codemirror_mode": {
    "name": "ipython",
    "version": 3
   },
   "file_extension": ".py",
   "mimetype": "text/x-python",
   "name": "python",
   "nbconvert_exporter": "python",
   "pygments_lexer": "ipython3",
   "version": "3.12.4"
  }
 },
 "nbformat": 4,
 "nbformat_minor": 5
}
