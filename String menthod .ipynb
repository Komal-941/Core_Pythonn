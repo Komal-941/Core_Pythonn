{
 "cells": [
  {
   "cell_type": "markdown",
   "id": "759b6cb4-d48a-47b5-b9b5-1070e31b54ce",
   "metadata": {},
   "source": [
    "# String Method"
   ]
  },
  {
   "cell_type": "markdown",
   "id": "9c6b77ca-e47f-4e32-86e1-dfc3e6be9fcd",
   "metadata": {},
   "source": [
    "**1.str.upper()** \n",
    "- Return a copy of string in all upper case characters (applicable only on text  i.e., string)"
   ]
  },
  {
   "cell_type": "code",
   "execution_count": 1,
   "id": "8370e8b9-2994-4de6-804d-94b4f3298869",
   "metadata": {},
   "outputs": [
    {
     "data": {
      "text/plain": [
       "'HELLO'"
      ]
     },
     "execution_count": 1,
     "metadata": {},
     "output_type": "execute_result"
    }
   ],
   "source": [
    "s=\"hello\"\n",
    "s.upper()"
   ]
  },
  {
   "cell_type": "markdown",
   "id": "56b2e5de-86fe-4223-b5d8-75c343f701bf",
   "metadata": {},
   "source": [
    "**2.str.lower()**\n",
    "- Return a copy of string in all lower case characters (applicable only on text i.e., string )"
   ]
  },
  {
   "cell_type": "code",
   "execution_count": 4,
   "id": "f55317f7-665f-4e03-a5b7-92be61079820",
   "metadata": {},
   "outputs": [
    {
     "data": {
      "text/plain": [
       "'world'"
      ]
     },
     "execution_count": 4,
     "metadata": {},
     "output_type": "execute_result"
    }
   ],
   "source": [
    "x= \"WORLD\"\n",
    "x.lower()"
   ]
  },
  {
   "cell_type": "markdown",
   "id": "368a0d88-6c7e-4e9e-965e-71efe1478f35",
   "metadata": {},
   "source": [
    "**3.str.swapcase**\n",
    "- will convert the existing characters to the oppo. upper case -->lower case 7 vise versa"
   ]
  },
  {
   "cell_type": "code",
   "execution_count": 5,
   "id": "9648f6e3-6fee-46e9-9ede-ba6d573c4c73",
   "metadata": {},
   "outputs": [
    {
     "data": {
      "text/plain": [
       "'hELLO wrorld'"
      ]
     },
     "execution_count": 5,
     "metadata": {},
     "output_type": "execute_result"
    }
   ],
   "source": [
    "x= \"Hello WRORLD\" \n",
    "x.swapcase()"
   ]
  },
  {
   "cell_type": "markdown",
   "id": "e448a123-ad63-4370-a974-7de787ba121c",
   "metadata": {},
   "source": [
    "**4.str.capitalize**\n",
    "- the first letter will be capital and remaining as lower"
   ]
  },
  {
   "cell_type": "code",
   "execution_count": 18,
   "id": "04ab9e27-b8c4-4fbc-9d09-4063706200e0",
   "metadata": {},
   "outputs": [
    {
     "data": {
      "text/plain": [
       "'Day is tuesday'"
      ]
     },
     "execution_count": 18,
     "metadata": {},
     "output_type": "execute_result"
    }
   ],
   "source": [
    "d=\"day is tuesday\"\n",
    "d.capitalize()"
   ]
  },
  {
   "cell_type": "code",
   "execution_count": 22,
   "id": "e688c9fe-a36b-40a8-b57c-926f6af96d1f",
   "metadata": {},
   "outputs": [
    {
     "data": {
      "text/plain": [
       "'-hello world'"
      ]
     },
     "execution_count": 22,
     "metadata": {},
     "output_type": "execute_result"
    }
   ],
   "source": [
    "f= \"-hello World\"\n",
    "f.capitalize()"
   ]
  },
  {
   "cell_type": "markdown",
   "id": "0eebb7e8-efe6-4239-ace1-a24212c3e890",
   "metadata": {},
   "source": [
    "**5.str.title**\n",
    "- first letter of each word will be Capitalized"
   ]
  },
  {
   "cell_type": "code",
   "execution_count": 23,
   "id": "0a3a33d6-1be8-4f05-91a8-55d24e8d9b97",
   "metadata": {},
   "outputs": [
    {
     "data": {
      "text/plain": [
       "'Good Morning'"
      ]
     },
     "execution_count": 23,
     "metadata": {},
     "output_type": "execute_result"
    }
   ],
   "source": [
    "g=\"good Morning\"\n",
    "g.title()"
   ]
  },
  {
   "cell_type": "markdown",
   "id": "a77e0b6e-3d3d-4a53-916a-053896e11255",
   "metadata": {},
   "source": [
    "**6.str.istitle**\n",
    "- will check the given string suit as title  means will check wether the first letter of evry word is in Upper case\n",
    "- Output will be in a Boolean data type\n"
   ]
  },
  {
   "cell_type": "code",
   "execution_count": 6,
   "id": "71f35ca7-6e78-4b12-a0b5-06f91d0161f7",
   "metadata": {},
   "outputs": [
    {
     "data": {
      "text/plain": [
       "False"
      ]
     },
     "execution_count": 6,
     "metadata": {},
     "output_type": "execute_result"
    }
   ],
   "source": [
    "h1= \"it was  a Great day\" \n",
    "h1.istitle()"
   ]
  },
  {
   "cell_type": "code",
   "execution_count": 8,
   "id": "05520096-26ff-481f-86b8-7331723814ee",
   "metadata": {},
   "outputs": [
    {
     "data": {
      "text/plain": [
       "True"
      ]
     },
     "execution_count": 8,
     "metadata": {},
     "output_type": "execute_result"
    }
   ],
   "source": [
    "h2= \"It Was A Magical Day\"\n",
    "h2.istitle()"
   ]
  },
  {
   "cell_type": "markdown",
   "id": "036b2ba2-2705-49f4-a8d6-70f9510f8aa4",
   "metadata": {},
   "source": [
    "**7.str.strip**\n",
    "- if at the start(leading) and at end(trailing) space is there ; it will get removed ; both side spaces remove"
   ]
  },
  {
   "cell_type": "code",
   "execution_count": 25,
   "id": "77ca32a8-24ec-48c4-bd0e-8502d01790a7",
   "metadata": {},
   "outputs": [
    {
     "data": {
      "text/plain": [
       "\"it's really good!\""
      ]
     },
     "execution_count": 25,
     "metadata": {},
     "output_type": "execute_result"
    }
   ],
   "source": [
    "i=\" it's really good!  \"\n",
    "i.strip()"
   ]
  },
  {
   "cell_type": "markdown",
   "id": "8d332ef1-93a8-44a1-9712-d5e3f878b221",
   "metadata": {},
   "source": [
    " **i]str.lstrp**\n",
    "- will check for th espace at LHS only "
   ]
  },
  {
   "cell_type": "code",
   "execution_count": 9,
   "id": "51526a4c-d6ea-4e5a-a902-7682cb848ec1",
   "metadata": {},
   "outputs": [
    {
     "data": {
      "text/plain": [
       "'Space  '"
      ]
     },
     "execution_count": 9,
     "metadata": {},
     "output_type": "execute_result"
    }
   ],
   "source": [
    "j=\"  Space  \"\n",
    "j.lstrip()"
   ]
  },
  {
   "cell_type": "markdown",
   "id": "bd2b714a-bb58-4ec5-b04a-a57f959d3679",
   "metadata": {},
   "source": [
    "**ii]str.rstrp**\n",
    "- will check for the space ata RHS only"
   ]
  },
  {
   "cell_type": "code",
   "execution_count": 10,
   "id": "8ac8a69d-813e-4130-844b-21a048ad9c6e",
   "metadata": {},
   "outputs": [
    {
     "data": {
      "text/plain": [
       "'  Space'"
      ]
     },
     "execution_count": 10,
     "metadata": {},
     "output_type": "execute_result"
    }
   ],
   "source": [
    "k=\"  Space  \"\n",
    "j.rstrip()"
   ]
  },
  {
   "cell_type": "markdown",
   "id": "9fedcc1f-a96c-4f60-9614-3c5c97bf3071",
   "metadata": {},
   "source": [
    "**8.str.removeprefix()**\n",
    "- if wanna remove some letters or numbers or any special character  from starting(leading)\n",
    "- whatever the data need to remove from start need to mention it in a bracket\n",
    "- if the mentioned vaalue is not at the starting of string it will print all the string as it is"
   ]
  },
  {
   "cell_type": "code",
   "execution_count": 11,
   "id": "08c95d55-75f2-4103-845c-4d70c2618cbf",
   "metadata": {},
   "outputs": [
    {
     "data": {
      "text/plain": [
       "'Python programming'"
      ]
     },
     "execution_count": 11,
     "metadata": {},
     "output_type": "execute_result"
    }
   ],
   "source": [
    "k2=\"123Python programming\"\n",
    "k2.removeprefix(\"123\")"
   ]
  },
  {
   "cell_type": "markdown",
   "id": "c61995aa-6890-4105-bb95-d46a226b2bf8",
   "metadata": {},
   "source": [
    "**9.str.removesuffix** \n",
    "- if wanna remove some letters or numbers or any special character from endng(leading)\n",
    "- whatever the data need to remove from end need to mention it in a bracket\n",
    "- if the mentioned vaalue is not at the ending of string it will print all the string as it is"
   ]
  },
  {
   "cell_type": "code",
   "execution_count": 126,
   "id": "46bd4c4c-5e34-42f4-8075-d3f2004f6a63",
   "metadata": {},
   "outputs": [
    {
     "data": {
      "text/plain": [
       "'Python programming1'"
      ]
     },
     "execution_count": 126,
     "metadata": {},
     "output_type": "execute_result"
    }
   ],
   "source": [
    "k7=\"Python programming12//\"\n",
    "k7.removesuffix(\"2//\")"
   ]
  },
  {
   "cell_type": "markdown",
   "id": "86994f50-8d0f-4d7f-9751-abb4f75878df",
   "metadata": {},
   "source": [
    "**10.str.replace**\n",
    "- Returns a copy of replaced string as new object and delete the last one\n",
    "- Ids will be different as after modifying  new object is created"
   ]
  },
  {
   "cell_type": "code",
   "execution_count": 12,
   "id": "4c79b4e6-74e0-43f4-9467-886c4006808c",
   "metadata": {},
   "outputs": [
    {
     "name": "stdout",
     "output_type": "stream",
     "text": [
      "Good Morning\n"
     ]
    }
   ],
   "source": [
    "o=\"Good Morning\"\n",
    "print(o)"
   ]
  },
  {
   "cell_type": "code",
   "execution_count": 13,
   "id": "23ed4c54-2a5d-4d12-ae30-840543ae3476",
   "metadata": {},
   "outputs": [
    {
     "name": "stdout",
     "output_type": "stream",
     "text": [
      "Bad Morning\n"
     ]
    }
   ],
   "source": [
    "o= o.replace(\"Good\",\"Bad\")\n",
    "print(o)"
   ]
  },
  {
   "cell_type": "code",
   "execution_count": 15,
   "id": "5d9e3eeb-228f-41f7-8a15-372fe99d994a",
   "metadata": {},
   "outputs": [
    {
     "name": "stdout",
     "output_type": "stream",
     "text": [
      " komal@091\n"
     ]
    },
    {
     "data": {
      "text/plain": [
       "2868267718448"
      ]
     },
     "execution_count": 15,
     "metadata": {},
     "output_type": "execute_result"
    }
   ],
   "source": [
    "o1 = \" komal@091\"\n",
    "print(o1)\n",
    "id(o1)"
   ]
  },
  {
   "cell_type": "code",
   "execution_count": 2,
   "id": "0433cc64-52b2-4f0a-bbfd-d6d0614c377b",
   "metadata": {},
   "outputs": [
    {
     "name": "stdout",
     "output_type": "stream",
     "text": [
      " komal#091\n"
     ]
    },
    {
     "data": {
      "text/plain": [
       "1901103748272"
      ]
     },
     "execution_count": 2,
     "metadata": {},
     "output_type": "execute_result"
    }
   ],
   "source": [
    "o1=o1.replace(\"@\",\"#\")\n",
    "print(o1)\n",
    "id(o1)                        #after replacing it will create a new id"
   ]
  },
  {
   "cell_type": "markdown",
   "id": "936ba97a-1181-4b0f-be0e-f27e6a801a2b",
   "metadata": {},
   "source": [
    "**11.str.split**\n",
    "- it wil split the one string into multiple string\n",
    "- if we did not mentioned delimiter(,,.,:,/) , by deafult it will take space as delimiter"
   ]
  },
  {
   "cell_type": "code",
   "execution_count": 62,
   "id": "90bd5b51-4f12-4718-9a92-bd081ceee019",
   "metadata": {},
   "outputs": [
    {
     "data": {
      "text/plain": [
       "['My', 'name', 'is', ',', 'Komal']"
      ]
     },
     "execution_count": 62,
     "metadata": {},
     "output_type": "execute_result"
    }
   ],
   "source": [
    "p= \"My name is , Komal\"             #whole string will split\n",
    "p.split()"
   ]
  },
  {
   "cell_type": "code",
   "execution_count": 66,
   "id": "e6072fcc-c8e2-43b4-8bb5-73eabb459d8c",
   "metadata": {},
   "outputs": [
    {
     "data": {
      "text/plain": [
       "['My name is ', ' @Komal']"
      ]
     },
     "execution_count": 66,
     "metadata": {},
     "output_type": "execute_result"
    }
   ],
   "source": [
    "p1=\"My name is , @Komal\"               #string will split as per the condn only (i.e, ,)\n",
    "p1.split(\",\")"
   ]
  },
  {
   "cell_type": "markdown",
   "id": "1c2b5789-8cf3-4772-b1c0-0f196f803619",
   "metadata": {},
   "source": [
    "**12.str.join()**\n",
    "- to Join the list of strings as one"
   ]
  },
  {
   "cell_type": "code",
   "execution_count": 73,
   "id": "754676d2-1142-453b-b598-a7605763d2c7",
   "metadata": {},
   "outputs": [
    {
     "data": {
      "text/plain": [
       "'Komal:Sopan:Shelar'"
      ]
     },
     "execution_count": 73,
     "metadata": {},
     "output_type": "execute_result"
    }
   ],
   "source": [
    "q=\"Komal\",\"Sopan\",\"Shelar\"\n",
    "(\":\").join(q)"
   ]
  },
  {
   "cell_type": "code",
   "execution_count": 7,
   "id": "964c0019-b936-4cae-bfd2-00a438c8d9fe",
   "metadata": {},
   "outputs": [
    {
     "data": {
      "text/plain": [
       "'K-o-m-a-l-S-h-e-l-a-r-9-4-1'"
      ]
     },
     "execution_count": 7,
     "metadata": {},
     "output_type": "execute_result"
    }
   ],
   "source": [
    "q2 = \"KomalShelar941\"\n",
    "\"-\".join(q2)"
   ]
  },
  {
   "cell_type": "markdown",
   "id": "a1364aad-394f-4f4d-8600-44549b34c13b",
   "metadata": {},
   "source": [
    "**13.str.index**\n",
    "- will give the index number for the value searched for (first letters index number only)\n",
    "- will throw a error if value not found"
   ]
  },
  {
   "cell_type": "code",
   "execution_count": 76,
   "id": "0fd761bb-6522-4358-aaef-b9dba9b0a326",
   "metadata": {},
   "outputs": [
    {
     "data": {
      "text/plain": [
       "10"
      ]
     },
     "execution_count": 76,
     "metadata": {},
     "output_type": "execute_result"
    }
   ],
   "source": [
    "r= 'python is very very easy '\n",
    "r.index(\"very\")"
   ]
  },
  {
   "cell_type": "code",
   "execution_count": 77,
   "id": "f38fb68c-e06e-4a99-a50a-cb9a22efd037",
   "metadata": {},
   "outputs": [
    {
     "data": {
      "text/plain": [
       "22"
      ]
     },
     "execution_count": 77,
     "metadata": {},
     "output_type": "execute_result"
    }
   ],
   "source": [
    "r.index(\"sy\")"
   ]
  },
  {
   "cell_type": "code",
   "execution_count": 80,
   "id": "0581a2f6-c1fe-4ce1-8d43-95e7e43dbc78",
   "metadata": {},
   "outputs": [
    {
     "ename": "ValueError",
     "evalue": "substring not found",
     "output_type": "error",
     "traceback": [
      "\u001b[1;31m---------------------------------------------------------------------------\u001b[0m",
      "\u001b[1;31mValueError\u001b[0m                                Traceback (most recent call last)",
      "Cell \u001b[1;32mIn[80], line 1\u001b[0m\n\u001b[1;32m----> 1\u001b[0m r\u001b[38;5;241m.\u001b[39mindex(\u001b[38;5;124m\"\u001b[39m\u001b[38;5;124misvery\u001b[39m\u001b[38;5;124m\"\u001b[39m)\n",
      "\u001b[1;31mValueError\u001b[0m: substring not found"
     ]
    }
   ],
   "source": [
    "r.index(\"isvery\")         #will search for exact value mentioned"
   ]
  },
  {
   "cell_type": "markdown",
   "id": "fff82e18-ac4d-4295-bcbe-88639521bd1c",
   "metadata": {},
   "source": [
    "**14.str.find()**\n",
    "- will give the index number for the value searched for (first letters index number only)\n",
    "- if the value not found will give output as -1"
   ]
  },
  {
   "cell_type": "code",
   "execution_count": 82,
   "id": "88b8b490-1047-40bd-9907-3c80e1aa913e",
   "metadata": {},
   "outputs": [
    {
     "data": {
      "text/plain": [
       "4"
      ]
     },
     "execution_count": 82,
     "metadata": {},
     "output_type": "execute_result"
    }
   ],
   "source": [
    "s=\"Its easy to learn\"\n",
    "s.find(\"easy\")"
   ]
  },
  {
   "cell_type": "code",
   "execution_count": 84,
   "id": "734ca119-ab7a-456c-996d-5da199c275d7",
   "metadata": {},
   "outputs": [
    {
     "data": {
      "text/plain": [
       "-1"
      ]
     },
     "execution_count": 84,
     "metadata": {},
     "output_type": "execute_result"
    }
   ],
   "source": [
    "s.find(\"py\")"
   ]
  },
  {
   "cell_type": "markdown",
   "id": "beeea231-1513-4173-ae80-82e7d6cb9f1f",
   "metadata": {},
   "source": [
    "**15.str.count()**\n",
    "- will give the count repeatative values\n",
    "- if thevalue not found it will shows 0 as o/p"
   ]
  },
  {
   "cell_type": "code",
   "execution_count": 2,
   "id": "d73a7a83-b157-4bf3-b150-9eace5a0160d",
   "metadata": {},
   "outputs": [
    {
     "data": {
      "text/plain": [
       "3"
      ]
     },
     "execution_count": 2,
     "metadata": {},
     "output_type": "execute_result"
    }
   ],
   "source": [
    "t=(\"good good good morning\")\n",
    "t.count(\"od\")"
   ]
  },
  {
   "cell_type": "markdown",
   "id": "7cc9c1ca-8bd7-4b82-84b0-eab6e3762946",
   "metadata": {},
   "source": [
    "**16.str.startswith()**\n",
    "- will give the boolean values if the given string starts as per mentioned\n",
    "- if the values matched = True\n",
    "- if the values doesn't match = False"
   ]
  },
  {
   "cell_type": "code",
   "execution_count": 91,
   "id": "90e1463d-a94f-45d8-bc2f-bf71d14541c0",
   "metadata": {},
   "outputs": [
    {
     "data": {
      "text/plain": [
       "True"
      ]
     },
     "execution_count": 91,
     "metadata": {},
     "output_type": "execute_result"
    }
   ],
   "source": [
    "u= \"941komal\"\n",
    "u.startswith(\"9\")"
   ]
  },
  {
   "cell_type": "code",
   "execution_count": 92,
   "id": "b6056c60-f182-44dd-adec-8a16217e72ca",
   "metadata": {},
   "outputs": [
    {
     "data": {
      "text/plain": [
       "False"
      ]
     },
     "execution_count": 92,
     "metadata": {},
     "output_type": "execute_result"
    }
   ],
   "source": [
    "u.startswith(\"k\")"
   ]
  },
  {
   "cell_type": "markdown",
   "id": "eaf0c379-2787-463c-bf7e-500a19d39b92",
   "metadata": {},
   "source": [
    "**17.str.endswith()**\n",
    "- will give the boolean values if the given string ends as per mentioned"
   ]
  },
  {
   "cell_type": "code",
   "execution_count": 94,
   "id": "82f72766-9007-4b85-b06c-c8595846110b",
   "metadata": {},
   "outputs": [
    {
     "data": {
      "text/plain": [
       "True"
      ]
     },
     "execution_count": 94,
     "metadata": {},
     "output_type": "execute_result"
    }
   ],
   "source": [
    "v= \"941komal\"\n",
    "v.endswith(\"al\")"
   ]
  },
  {
   "cell_type": "markdown",
   "id": "24771a99-ee8e-40f5-8a13-51d027aea65d",
   "metadata": {},
   "source": [
    "**18.str.isalnum()**\n",
    "- retrun boolean values by checking wheter it contains alphates , numeric and special chara(including space)\n",
    "- alphabates/ numbers/ both = True\n",
    "- any special character present = False"
   ]
  },
  {
   "cell_type": "code",
   "execution_count": 96,
   "id": "373ad0cb-6d9d-4452-9ddf-3bb61eb0f2aa",
   "metadata": {},
   "outputs": [
    {
     "data": {
      "text/plain": [
       "True"
      ]
     },
     "execution_count": 96,
     "metadata": {},
     "output_type": "execute_result"
    }
   ],
   "source": [
    "w= \"KomalShelar\"\n",
    "w.isalnum()"
   ]
  },
  {
   "cell_type": "markdown",
   "id": "a5f35b5e-e37c-430c-b85e-1b3582adfcf8",
   "metadata": {},
   "source": [
    "**19.str.isalpha()**\n",
    "- use to check if only alphabates are there\n",
    "- only alphabates = True\n",
    "- numbers or special characters are there = False"
   ]
  },
  {
   "cell_type": "code",
   "execution_count": 102,
   "id": "b915dc8a-030a-4011-8f9d-7ce5190f6431",
   "metadata": {},
   "outputs": [
    {
     "data": {
      "text/plain": [
       "False"
      ]
     },
     "execution_count": 102,
     "metadata": {},
     "output_type": "execute_result"
    }
   ],
   "source": [
    "x= \"Komal.Shelar\"\n",
    "x.isalpha()"
   ]
  },
  {
   "cell_type": "code",
   "execution_count": 100,
   "id": "08e65628-d246-486c-a62b-f75d7fd44956",
   "metadata": {},
   "outputs": [
    {
     "data": {
      "text/plain": [
       "True"
      ]
     },
     "execution_count": 100,
     "metadata": {},
     "output_type": "execute_result"
    }
   ],
   "source": [
    "x= \"KomalShelar\"\n",
    "x.isalpha()"
   ]
  },
  {
   "cell_type": "markdown",
   "id": "c6a558de-c9b1-45fc-9679-a4e6ab9b09c5",
   "metadata": {},
   "source": [
    "**20.str.isdigit()**\n",
    "- use to check if only numbers are there"
   ]
  },
  {
   "cell_type": "code",
   "execution_count": 103,
   "id": "f1dec65f-bbff-4d3c-887f-82d6bfb90f7c",
   "metadata": {},
   "outputs": [
    {
     "data": {
      "text/plain": [
       "False"
      ]
     },
     "execution_count": 103,
     "metadata": {},
     "output_type": "execute_result"
    }
   ],
   "source": [
    "x= \"KomalShel11ar\"\n",
    "x.isdigit()"
   ]
  },
  {
   "cell_type": "code",
   "execution_count": 104,
   "id": "6317d3fd-fefb-49c2-b8fc-3c7cc1a70de5",
   "metadata": {},
   "outputs": [
    {
     "data": {
      "text/plain": [
       "True"
      ]
     },
     "execution_count": 104,
     "metadata": {},
     "output_type": "execute_result"
    }
   ],
   "source": [
    "x= \"10050\"\n",
    "x.isdigit()"
   ]
  },
  {
   "cell_type": "markdown",
   "id": "4d842d51-4516-4da4-908c-46506987d2db",
   "metadata": {},
   "source": [
    "**21.str.islower**\n",
    "- return boolean if mentioned values are in the lower case (numbers doesn't matter)\n",
    "- all characters need to lower case then nd then it will shows True"
   ]
  },
  {
   "cell_type": "code",
   "execution_count": 105,
   "id": "13e0c494-bb1c-444b-99f3-53259c48c584",
   "metadata": {},
   "outputs": [
    {
     "data": {
      "text/plain": [
       "False"
      ]
     },
     "execution_count": 105,
     "metadata": {},
     "output_type": "execute_result"
    }
   ],
   "source": [
    "y=\"Komal7721\"\n",
    "y.islower()"
   ]
  },
  {
   "cell_type": "code",
   "execution_count": 106,
   "id": "37534273-c6fb-445d-ba0e-b9a781fc4d0d",
   "metadata": {},
   "outputs": [
    {
     "data": {
      "text/plain": [
       "True"
      ]
     },
     "execution_count": 106,
     "metadata": {},
     "output_type": "execute_result"
    }
   ],
   "source": [
    "y=\"komal7721\"\n",
    "y.islower()"
   ]
  },
  {
   "cell_type": "markdown",
   "id": "48afc2d1-153e-4919-80a1-5e160d668d4c",
   "metadata": {},
   "source": [
    "**22.str.isupper**\n",
    "- return boolean if mentioned values are in the upper case (numbers doesn't matter)\n",
    "- all characters need to upper case then nd then it will shows True"
   ]
  },
  {
   "cell_type": "code",
   "execution_count": 110,
   "id": "69c586d3-0c02-4e69-8345-b07f3fa63bf5",
   "metadata": {},
   "outputs": [
    {
     "data": {
      "text/plain": [
       "False"
      ]
     },
     "execution_count": 110,
     "metadata": {},
     "output_type": "execute_result"
    }
   ],
   "source": [
    "z=\"Komal7721\"\n",
    "z.isupper()"
   ]
  },
  {
   "cell_type": "code",
   "execution_count": 111,
   "id": "a137869c-a49e-464d-8709-66ed31f89b8d",
   "metadata": {},
   "outputs": [
    {
     "data": {
      "text/plain": [
       "True"
      ]
     },
     "execution_count": 111,
     "metadata": {},
     "output_type": "execute_result"
    }
   ],
   "source": [
    "z=\"KOMAL7721\"\n",
    "z.isupper()"
   ]
  },
  {
   "cell_type": "markdown",
   "id": "8337cea5-77f2-4312-ae2d-14d3a5b9798e",
   "metadata": {},
   "source": [
    "**23.str.isspaced**\n",
    "- needs space only "
   ]
  },
  {
   "cell_type": "code",
   "execution_count": 112,
   "id": "e3692c97-0737-4312-814d-4cc85de53e8f",
   "metadata": {},
   "outputs": [
    {
     "data": {
      "text/plain": [
       "True"
      ]
     },
     "execution_count": 112,
     "metadata": {},
     "output_type": "execute_result"
    }
   ],
   "source": [
    "a1=\" \"\n",
    "a1.isspace()"
   ]
  },
  {
   "cell_type": "code",
   "execution_count": 113,
   "id": "cf702d44-1045-448a-a10b-a045655c5ccb",
   "metadata": {},
   "outputs": [
    {
     "data": {
      "text/plain": [
       "False"
      ]
     },
     "execution_count": 113,
     "metadata": {},
     "output_type": "execute_result"
    }
   ],
   "source": [
    "a1=\"dd \"\n",
    "a1.isspace()"
   ]
  },
  {
   "cell_type": "code",
   "execution_count": null,
   "id": "35b23395-d808-446a-8c32-32c9fa18766d",
   "metadata": {},
   "outputs": [],
   "source": []
  }
 ],
 "metadata": {
  "kernelspec": {
   "display_name": "Python 3 (ipykernel)",
   "language": "python",
   "name": "python3"
  },
  "language_info": {
   "codemirror_mode": {
    "name": "ipython",
    "version": 3
   },
   "file_extension": ".py",
   "mimetype": "text/x-python",
   "name": "python",
   "nbconvert_exporter": "python",
   "pygments_lexer": "ipython3",
   "version": "3.12.4"
  }
 },
 "nbformat": 4,
 "nbformat_minor": 5
}
