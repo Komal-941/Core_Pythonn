{
 "cells": [
  {
   "cell_type": "markdown",
   "id": "4ea4888a-293a-4487-a30e-5b94e4369cf5",
   "metadata": {},
   "source": [
    "### Used to convert one data type to other"
   ]
  },
  {
   "cell_type": "code",
   "execution_count": 1,
   "id": "4235df9a-a4ee-4b54-82b7-7887885029d7",
   "metadata": {},
   "outputs": [
    {
     "data": {
      "text/plain": [
       "int"
      ]
     },
     "execution_count": 1,
     "metadata": {},
     "output_type": "execute_result"
    }
   ],
   "source": [
    "a= 12\n",
    "type(a)"
   ]
  },
  {
   "cell_type": "code",
   "execution_count": null,
   "id": "0af92201-b813-4eff-9f52-0feb7667a8d4",
   "metadata": {},
   "outputs": [],
   "source": [
    "  #converting int to bollean datatype"
   ]
  },
  {
   "cell_type": "code",
   "execution_count": 2,
   "id": "3089c968-65a4-4d16-8fe3-71f3b987e617",
   "metadata": {},
   "outputs": [
    {
     "data": {
      "text/plain": [
       "True"
      ]
     },
     "execution_count": 2,
     "metadata": {},
     "output_type": "execute_result"
    }
   ],
   "source": [
    "a1 = bool(a)         \n",
    "a1"
   ]
  },
  {
   "cell_type": "code",
   "execution_count": 4,
   "id": "92a7a15f-a2e8-4350-bd31-aa0ca2aa9e3b",
   "metadata": {},
   "outputs": [
    {
     "data": {
      "text/plain": [
       "bool"
      ]
     },
     "execution_count": 4,
     "metadata": {},
     "output_type": "execute_result"
    }
   ],
   "source": [
    "type(a1)"
   ]
  },
  {
   "cell_type": "code",
   "execution_count": null,
   "id": "083f0cca-0aa8-4119-a6f6-ff20b57d91dc",
   "metadata": {},
   "outputs": [],
   "source": [
    "# Converting Boolean to Int Datatype"
   ]
  },
  {
   "cell_type": "code",
   "execution_count": 5,
   "id": "73c4303f-57ec-4d23-9c86-3f5e462e5fa8",
   "metadata": {},
   "outputs": [
    {
     "data": {
      "text/plain": [
       "int"
      ]
     },
     "execution_count": 5,
     "metadata": {},
     "output_type": "execute_result"
    }
   ],
   "source": [
    " b = False\n",
    "b1 = int(b) \n",
    "type(b1)"
   ]
  },
  {
   "cell_type": "code",
   "execution_count": null,
   "id": "4f2b0502-46ed-4506-ba8c-b3026e04a4e6",
   "metadata": {},
   "outputs": [],
   "source": [
    "  #converting int to float datatype"
   ]
  },
  {
   "cell_type": "code",
   "execution_count": 7,
   "id": "a9037c4e-e618-4ccf-a991-8cfe3396d217",
   "metadata": {},
   "outputs": [
    {
     "data": {
      "text/plain": [
       "45.0"
      ]
     },
     "execution_count": 7,
     "metadata": {},
     "output_type": "execute_result"
    }
   ],
   "source": [
    "x = 45\n",
    "x1 = float(x) \n",
    "x1"
   ]
  },
  {
   "cell_type": "code",
   "execution_count": 8,
   "id": "de891fc5-3146-4fb5-872b-a9e52de369d5",
   "metadata": {},
   "outputs": [
    {
     "data": {
      "text/plain": [
       "int"
      ]
     },
     "execution_count": 8,
     "metadata": {},
     "output_type": "execute_result"
    }
   ],
   "source": [
    "type(x)"
   ]
  },
  {
   "cell_type": "code",
   "execution_count": 10,
   "id": "aa74f37d-386d-453b-8b16-4ddd1d807f44",
   "metadata": {},
   "outputs": [
    {
     "data": {
      "text/plain": [
       "98765.0"
      ]
     },
     "execution_count": 10,
     "metadata": {},
     "output_type": "execute_result"
    }
   ],
   "source": [
    "y = 98765\n",
    "y1= float(y)\n",
    "y1"
   ]
  },
  {
   "cell_type": "code",
   "execution_count": 11,
   "id": "8681af48-c843-4ffb-9780-2ce98411e581",
   "metadata": {},
   "outputs": [
    {
     "data": {
      "text/plain": [
       "float"
      ]
     },
     "execution_count": 11,
     "metadata": {},
     "output_type": "execute_result"
    }
   ],
   "source": [
    "type(y1)"
   ]
  },
  {
   "cell_type": "code",
   "execution_count": null,
   "id": "0e15d51c-a4a0-4ea5-afe5-94e06ab00163",
   "metadata": {},
   "outputs": [],
   "source": [
    "#converting  float  to int datatype"
   ]
  },
  {
   "cell_type": "code",
   "execution_count": 12,
   "id": "c565b494-3fbb-422d-b34a-b27817fd3a00",
   "metadata": {},
   "outputs": [
    {
     "data": {
      "text/plain": [
       "56"
      ]
     },
     "execution_count": 12,
     "metadata": {},
     "output_type": "execute_result"
    }
   ],
   "source": [
    "z = 56.89\n",
    "z1 = int(z)\n",
    "z1"
   ]
  },
  {
   "cell_type": "code",
   "execution_count": 13,
   "id": "28e41323-d53a-4a3b-b9c8-a1ecc06c16a3",
   "metadata": {},
   "outputs": [
    {
     "data": {
      "text/plain": [
       "float"
      ]
     },
     "execution_count": 13,
     "metadata": {},
     "output_type": "execute_result"
    }
   ],
   "source": [
    "type(z)"
   ]
  },
  {
   "cell_type": "code",
   "execution_count": null,
   "id": "ea18ce0e-9cf0-4ad1-837c-2e80b2dbeec7",
   "metadata": {},
   "outputs": [],
   "source": []
  },
  {
   "cell_type": "code",
   "execution_count": 20,
   "id": "f6babaf5-bb25-4ae4-84aa-0728b8ae0271",
   "metadata": {},
   "outputs": [
    {
     "name": "stdin",
     "output_type": "stream",
     "text": [
      "Enter Number  : 4\n"
     ]
    },
    {
     "name": "stdout",
     "output_type": "stream",
     "text": [
      "4\n",
      "<class 'str'>\n"
     ]
    }
   ],
   "source": [
    "a = input(\"Enter Number  :\", )             #This is a input Function                                \n",
    "print(a)\n",
    "print(type(a))                             # By default it will take a input as str only"
   ]
  },
  {
   "cell_type": "code",
   "execution_count": 19,
   "id": "fad3c366-8dfe-45a2-bc11-3bbbf254ab57",
   "metadata": {},
   "outputs": [
    {
     "name": "stdin",
     "output_type": "stream",
     "text": [
      "enter a number : 5\n"
     ]
    },
    {
     "name": "stdout",
     "output_type": "stream",
     "text": [
      "5\n",
      "<class 'int'>\n"
     ]
    }
   ],
   "source": [
    "a = int(input(\"enter a number :\"))           # Here at this line we are doing typecasting string into integer\n",
    "print(a)\n",
    "print(type(a))"
   ]
  },
  {
   "cell_type": "code",
   "execution_count": null,
   "id": "c7148d7a-83f0-43a6-bac3-afdab7aea794",
   "metadata": {},
   "outputs": [],
   "source": []
  }
 ],
 "metadata": {
  "kernelspec": {
   "display_name": "Python 3 (ipykernel)",
   "language": "python",
   "name": "python3"
  },
  "language_info": {
   "codemirror_mode": {
    "name": "ipython",
    "version": 3
   },
   "file_extension": ".py",
   "mimetype": "text/x-python",
   "name": "python",
   "nbconvert_exporter": "python",
   "pygments_lexer": "ipython3",
   "version": "3.12.4"
  }
 },
 "nbformat": 4,
 "nbformat_minor": 5
}
