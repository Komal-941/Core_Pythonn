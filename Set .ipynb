{
 "cells": [
  {
   "cell_type": "markdown",
   "id": "ff84c60f-b7eb-4c88-925e-8d3e40312f8d",
   "metadata": {},
   "source": [
    "# set{} \n"
   ]
  },
  {
   "cell_type": "markdown",
   "id": "c719b5af-c6c4-4228-8e0e-67eca4adc6e9",
   "metadata": {},
   "source": [
    "**Empty set**"
   ]
  },
  {
   "cell_type": "code",
   "execution_count": 3,
   "id": "b2bccacb-6cff-4c0b-8be9-ba9e3941397c",
   "metadata": {},
   "outputs": [
    {
     "name": "stdout",
     "output_type": "stream",
     "text": [
      "set()\n"
     ]
    }
   ],
   "source": [
    "l = set()\n",
    "print(l)"
   ]
  },
  {
   "cell_type": "markdown",
   "id": "9801190f-ee35-4640-b0dc-df46c85cf57c",
   "metadata": {},
   "source": [
    "**unorder set**"
   ]
  },
  {
   "cell_type": "code",
   "execution_count": 1,
   "id": "f01d416a-3c4d-4596-a483-2052303807e3",
   "metadata": {},
   "outputs": [
    {
     "name": "stdout",
     "output_type": "stream",
     "text": [
      "{65, 2.8, 3.4, 23, 79}\n"
     ]
    }
   ],
   "source": [
    "s ={23,65,79,2.8,3.4}  # it may or may not be print in a order\n",
    "print(s)"
   ]
  },
  {
   "cell_type": "markdown",
   "id": "8b6d4aa0-0fa8-4cd6-b240-acd38e36a5ba",
   "metadata": {},
   "source": [
    "**mutable objects not accepted**"
   ]
  },
  {
   "cell_type": "code",
   "execution_count": 6,
   "id": "f8b61ad0-07f4-4905-a22e-89b5be86b968",
   "metadata": {},
   "outputs": [
    {
     "name": "stdout",
     "output_type": "stream",
     "text": [
      "{False, 1, 'Komal', 4.5, (1, 4, 6)}\n"
     ]
    }
   ],
   "source": [
    "s ={1,4.5, False, \"Komal\" , (1,4,6)}             # all the values in set are immutable \n",
    "print(s)"
   ]
  },
  {
   "cell_type": "markdown",
   "id": "95e1d9b2-a4a7-4268-900f-b4c0c75767f5",
   "metadata": {},
   "source": [
    "**will not count duplicates**"
   ]
  },
  {
   "cell_type": "code",
   "execution_count": 14,
   "id": "bfa73385-5b32-4fd7-9095-2e5491372897",
   "metadata": {},
   "outputs": [
    {
     "name": "stdout",
     "output_type": "stream",
     "text": [
      "{1, 2, 3, 4, 5, 7}\n"
     ]
    }
   ],
   "source": [
    "s ={1,2,3,4,3,2,1,5,2,3,5,7}             #automatically duplicates will remove\n",
    "print(s)"
   ]
  },
  {
   "cell_type": "code",
   "execution_count": 16,
   "id": "53c5416d-2a4b-4e03-a534-62f4145bb46a",
   "metadata": {},
   "outputs": [
    {
     "data": {
      "text/plain": [
       "8"
      ]
     },
     "execution_count": 16,
     "metadata": {},
     "output_type": "execute_result"
    }
   ],
   "source": [
    "len(s)"
   ]
  },
  {
   "cell_type": "code",
   "execution_count": null,
   "id": "f218dbf3-7dbc-4766-b2fd-448fba2826bf",
   "metadata": {},
   "outputs": [],
   "source": []
  }
 ],
 "metadata": {
  "kernelspec": {
   "display_name": "Python 3 (ipykernel)",
   "language": "python",
   "name": "python3"
  },
  "language_info": {
   "codemirror_mode": {
    "name": "ipython",
    "version": 3
   },
   "file_extension": ".py",
   "mimetype": "text/x-python",
   "name": "python",
   "nbconvert_exporter": "python",
   "pygments_lexer": "ipython3",
   "version": "3.12.4"
  }
 },
 "nbformat": 4,
 "nbformat_minor": 5
}
