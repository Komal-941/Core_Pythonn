{
 "cells": [
  {
   "cell_type": "markdown",
   "id": "999bdce6-93cf-4c24-962f-415bdaa5dba9",
   "metadata": {},
   "source": [
    "# List []\n",
    "- List is Advance Data type, where it can store multiple values\n",
    "- Declaring a list is, Items separated by commas are enclosed within brackets [].\n",
    "- List is Mutable. the items can be modified with in the same object\n",
    "\n",
    "**Empty List** :- List with 0 item "
   ]
  },
  {
   "cell_type": "code",
   "execution_count": 7,
   "id": "a3327d54-e95b-4449-813b-fd9b862cf137",
   "metadata": {},
   "outputs": [
    {
     "name": "stdout",
     "output_type": "stream",
     "text": [
      "[10, 3.4, True, 'Ks']\n"
     ]
    }
   ],
   "source": [
    "l =[ 10, 3.4, True,\"Ks\"]\n",
    "print(l)"
   ]
  },
  {
   "cell_type": "code",
   "execution_count": 8,
   "id": "b41c045d-4433-4da8-b3af-fb53b3ce48ee",
   "metadata": {},
   "outputs": [
    {
     "data": {
      "text/plain": [
       "'K'"
      ]
     },
     "execution_count": 8,
     "metadata": {},
     "output_type": "execute_result"
    }
   ],
   "source": [
    "l[3][0]"
   ]
  },
  {
   "cell_type": "code",
   "execution_count": 9,
   "id": "80516da7-ed86-4538-93a1-a1574b5dfa1b",
   "metadata": {},
   "outputs": [
    {
     "data": {
      "text/plain": [
       "True"
      ]
     },
     "execution_count": 9,
     "metadata": {},
     "output_type": "execute_result"
    }
   ],
   "source": [
    "l[2]"
   ]
  },
  {
   "cell_type": "markdown",
   "id": "7d8246d3-9ab9-4b1c-bcd9-03f90070ab30",
   "metadata": {},
   "source": [
    "**Nested List** \n",
    "- within a 1 List , adding more list "
   ]
  },
  {
   "cell_type": "code",
   "execution_count": 12,
   "id": "a76841fd-7b9f-4db4-b051-5a1b85fcd9f8",
   "metadata": {},
   "outputs": [
    {
     "name": "stdout",
     "output_type": "stream",
     "text": [
      "[12, 3, 5, True, [12, 'Komal', 20.8], 'Shelar']\n"
     ]
    }
   ],
   "source": [
    "p=[12,3,5,True,[12,\"Komal\",20.8],\"Shelar\"]\n",
    "print(p)"
   ]
  },
  {
   "cell_type": "code",
   "execution_count": 13,
   "id": "dc5c0260-5804-4d57-bbca-2ede1b31b20d",
   "metadata": {},
   "outputs": [
    {
     "data": {
      "text/plain": [
       "list"
      ]
     },
     "execution_count": 13,
     "metadata": {},
     "output_type": "execute_result"
    }
   ],
   "source": [
    "type(p)"
   ]
  },
  {
   "cell_type": "code",
   "execution_count": 15,
   "id": "bf6c4f9d-fd50-4f0a-b132-d4ed4dc6537c",
   "metadata": {},
   "outputs": [
    {
     "data": {
      "text/plain": [
       "'a'"
      ]
     },
     "execution_count": 15,
     "metadata": {},
     "output_type": "execute_result"
    }
   ],
   "source": [
    "p[4][1][3]                         # idexing"
   ]
  },
  {
   "cell_type": "code",
   "execution_count": 17,
   "id": "f643e7dd-19b4-4ad1-8c63-707bdc996cc3",
   "metadata": {},
   "outputs": [
    {
     "name": "stdout",
     "output_type": "stream",
     "text": [
      "5\n"
     ]
    }
   ],
   "source": [
    "print(len(p) -1)                  # positive index count "
   ]
  },
  {
   "cell_type": "code",
   "execution_count": 19,
   "id": "0a98796a-5428-4544-8f3d-6c0be9ccbc21",
   "metadata": {},
   "outputs": [],
   "source": [
    "l=[1,4,16,[25,36],49,\"srk\"]"
   ]
  },
  {
   "cell_type": "code",
   "execution_count": 21,
   "id": "01f8fc9b-f1e1-4bdd-8c9a-5be25c79db9b",
   "metadata": {},
   "outputs": [
    {
     "data": {
      "text/plain": [
       "6"
      ]
     },
     "execution_count": 21,
     "metadata": {},
     "output_type": "execute_result"
    }
   ],
   "source": [
    "len(l)"
   ]
  },
  {
   "cell_type": "code",
   "execution_count": 22,
   "id": "c95fdac3-8f25-4810-86b3-1963e031ff40",
   "metadata": {},
   "outputs": [
    {
     "data": {
      "text/plain": [
       "'srk'"
      ]
     },
     "execution_count": 22,
     "metadata": {},
     "output_type": "execute_result"
    }
   ],
   "source": [
    "l[5]"
   ]
  },
  {
   "cell_type": "code",
   "execution_count": 23,
   "id": "dc826d32-ad7b-4fbb-ad01-5b7f3fe2d5fe",
   "metadata": {},
   "outputs": [
    {
     "data": {
      "text/plain": [
       "36"
      ]
     },
     "execution_count": 23,
     "metadata": {},
     "output_type": "execute_result"
    }
   ],
   "source": [
    "l[3][1]"
   ]
  },
  {
   "cell_type": "code",
   "execution_count": 24,
   "id": "2c6e713b-1417-4506-b41d-051eb392e9f6",
   "metadata": {},
   "outputs": [
    {
     "data": {
      "text/plain": [
       "'s'"
      ]
     },
     "execution_count": 24,
     "metadata": {},
     "output_type": "execute_result"
    }
   ],
   "source": [
    "l[5][0]"
   ]
  },
  {
   "cell_type": "code",
   "execution_count": 25,
   "id": "d8f63116-07de-4a22-ab77-c245a6c539c8",
   "metadata": {},
   "outputs": [
    {
     "data": {
      "text/plain": [
       "36"
      ]
     },
     "execution_count": 25,
     "metadata": {},
     "output_type": "execute_result"
    }
   ],
   "source": [
    "l[-3][-1]"
   ]
  },
  {
   "cell_type": "markdown",
   "id": "bd9092d1-ba7f-4076-89b8-ff022a60208b",
   "metadata": {},
   "source": [
    "**List Indexing**"
   ]
  },
  {
   "cell_type": "code",
   "execution_count": 27,
   "id": "ba82e562-9e00-489e-a2e4-0ab7b005cb35",
   "metadata": {},
   "outputs": [],
   "source": [
    "l=[25,30,[26,27,28,[\"hello\"]],[32,38]]"
   ]
  },
  {
   "cell_type": "code",
   "execution_count": 29,
   "id": "42663b57-6d75-41fe-accc-6ae3d91d9647",
   "metadata": {},
   "outputs": [
    {
     "data": {
      "text/plain": [
       "'hello'"
      ]
     },
     "execution_count": 29,
     "metadata": {},
     "output_type": "execute_result"
    }
   ],
   "source": [
    "l[2][3][0]"
   ]
  },
  {
   "cell_type": "markdown",
   "id": "3aca79b0-35fc-46e3-b7ec-afec06c76a84",
   "metadata": {},
   "source": [
    "**List Slicing**"
   ]
  },
  {
   "cell_type": "code",
   "execution_count": 35,
   "id": "e98d364d-adb7-42b9-88c8-a59858149ce2",
   "metadata": {},
   "outputs": [],
   "source": [
    "l= [10,20,30,40,50,60,70]"
   ]
  },
  {
   "cell_type": "code",
   "execution_count": 40,
   "id": "8732ef45-ddf5-4abf-a74e-fa34d15ea07a",
   "metadata": {},
   "outputs": [
    {
     "data": {
      "text/plain": [
       "[50, 40, 30, 20]"
      ]
     },
     "execution_count": 40,
     "metadata": {},
     "output_type": "execute_result"
    }
   ],
   "source": [
    "l[-3:-7:-1]"
   ]
  },
  {
   "cell_type": "markdown",
   "id": "498185f4-6b17-4055-9489-7a697fc832de",
   "metadata": {},
   "source": [
    "**list concatenation**\n",
    "- it will add/ muliply the values if both are of the same type"
   ]
  },
  {
   "cell_type": "code",
   "execution_count": 41,
   "id": "11607ef9-2168-4866-894a-385d27df8dc1",
   "metadata": {},
   "outputs": [
    {
     "data": {
      "text/plain": [
       "'komalshelar'"
      ]
     },
     "execution_count": 41,
     "metadata": {},
     "output_type": "execute_result"
    }
   ],
   "source": [
    "\"komal\" + \"shelar\""
   ]
  },
  {
   "cell_type": "code",
   "execution_count": 42,
   "id": "d436dd6f-6e38-4673-9c8f-3a5ff2eaeaa4",
   "metadata": {},
   "outputs": [
    {
     "data": {
      "text/plain": [
       "[1, 2, 3, 4, 5, 6]"
      ]
     },
     "execution_count": 42,
     "metadata": {},
     "output_type": "execute_result"
    }
   ],
   "source": [
    "l=[1,2,3] \n",
    "m=[4,5,6] \n",
    "l+m"
   ]
  },
  {
   "cell_type": "code",
   "execution_count": 43,
   "id": "ef06bb7a-8582-495b-9d40-0174bfe22ad2",
   "metadata": {},
   "outputs": [
    {
     "data": {
      "text/plain": [
       "['d', 'b', 'c', 'a', 6, 4.0]"
      ]
     },
     "execution_count": 43,
     "metadata": {},
     "output_type": "execute_result"
    }
   ],
   "source": [
    "l1=[\"d\",\"b\", \"c\"]\n",
    "l2=[\"a\", 6,4.0]             # as both are the list so we can concatenate\n",
    "l1+l2"
   ]
  },
  {
   "cell_type": "code",
   "execution_count": 1,
   "id": "7a8d49be-3fe1-4074-979d-d86b03011602",
   "metadata": {},
   "outputs": [
    {
     "name": "stdout",
     "output_type": "stream",
     "text": [
      "[10, 20.3, True, 'Komal']\n"
     ]
    }
   ],
   "source": [
    "p=[10,20.3,True, \"Komal\"]  \n",
    "                                        \n",
    "print(p)"
   ]
  },
  {
   "cell_type": "markdown",
   "id": "fab2689d-3a29-481c-817a-5ebcef4a593e",
   "metadata": {},
   "source": [
    "**Replace one the item**"
   ]
  },
  {
   "cell_type": "code",
   "execution_count": 2,
   "id": "7e104527-7a10-4504-a39d-85dbd2062f1c",
   "metadata": {},
   "outputs": [
    {
     "name": "stdout",
     "output_type": "stream",
     "text": [
      "[10, 47.9, True, 'Komal']\n"
     ]
    }
   ],
   "source": [
    "p[1] = 47.9\n",
    "print(p)                 #the value at index no. 1 is replaced"
   ]
  },
  {
   "cell_type": "markdown",
   "id": "2c60fe26-0928-4f6f-9a31-ae4cb09d87b0",
   "metadata": {},
   "source": [
    "**Adding a items in a list**"
   ]
  },
  {
   "cell_type": "code",
   "execution_count": 3,
   "id": "4c91f6ad-5ab1-49dd-a5ad-011e9f562766",
   "metadata": {},
   "outputs": [
    {
     "name": "stdout",
     "output_type": "stream",
     "text": [
      "[10, 47.9, True, 'Komal', True]\n"
     ]
    }
   ],
   "source": [
    "p.append(True)               # here we can add a item in list by using append but only on at a time\n",
    "print(p)"
   ]
  },
  {
   "cell_type": "code",
   "execution_count": 4,
   "id": "c394b7a8-0b1d-4e7b-8577-7181a2436548",
   "metadata": {},
   "outputs": [
    {
     "name": "stdout",
     "output_type": "stream",
     "text": [
      "[10, 47.9, True, 'Komal', True]\n"
     ]
    }
   ],
   "source": [
    "p[2] = True\n",
    "print(p)"
   ]
  }
 ],
 "metadata": {
  "kernelspec": {
   "display_name": "Python 3 (ipykernel)",
   "language": "python",
   "name": "python3"
  },
  "language_info": {
   "codemirror_mode": {
    "name": "ipython",
    "version": 3
   },
   "file_extension": ".py",
   "mimetype": "text/x-python",
   "name": "python",
   "nbconvert_exporter": "python",
   "pygments_lexer": "ipython3",
   "version": "3.12.4"
  }
 },
 "nbformat": 4,
 "nbformat_minor": 5
}
