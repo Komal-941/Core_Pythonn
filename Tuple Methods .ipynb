{
 "cells": [
  {
   "cell_type": "markdown",
   "id": "2d2787fc-8d11-444f-a0bc-4755ce3fc9dc",
   "metadata": {},
   "source": [
    "# Tuple methods"
   ]
  },
  {
   "cell_type": "markdown",
   "id": "803c3af8-d542-49c5-9b84-d22f03e08b0b",
   "metadata": {},
   "source": [
    "**1.tuple.count()**\n",
    "    - number of items occured in tuple"
   ]
  },
  {
   "cell_type": "code",
   "execution_count": 22,
   "id": "a6b09d86-3160-45f0-a6c5-9997412a632b",
   "metadata": {},
   "outputs": [
    {
     "data": {
      "text/plain": [
       "3"
      ]
     },
     "execution_count": 22,
     "metadata": {},
     "output_type": "execute_result"
    }
   ],
   "source": [
    "mytuple1 =(1,2,3,2,1,5,4,1,2,3,2,[8,7,1,2,3,])\n",
    "\n",
    "mytuple1.count(1)          #----> will count tuple items or indivual items only"
   ]
  },
  {
   "cell_type": "markdown",
   "id": "1de5ca13-e188-4bd8-8133-16204c20abf3",
   "metadata": {},
   "source": [
    "**2.tuple.index()** \n",
    "- will give the  index number of value available "
   ]
  },
  {
   "cell_type": "code",
   "execution_count": 23,
   "id": "5309ccd6-dced-44fa-b285-3a73037707ea",
   "metadata": {},
   "outputs": [
    {
     "name": "stdout",
     "output_type": "stream",
     "text": [
      "(45, 54, 67, 76, 'Komal', 12.3, True)\n"
     ]
    }
   ],
   "source": [
    "tuple1= (45,54,67,76,\"Komal\", 12.3, True)\n",
    "print(tuple1)"
   ]
  },
  {
   "cell_type": "code",
   "execution_count": 24,
   "id": "00c51174-93c1-4ab7-b119-a29714df5a7d",
   "metadata": {},
   "outputs": [
    {
     "data": {
      "text/plain": [
       "1"
      ]
     },
     "execution_count": 24,
     "metadata": {},
     "output_type": "execute_result"
    }
   ],
   "source": [
    "tuple1.index(54) "
   ]
  },
  {
   "cell_type": "markdown",
   "id": "4d8feab8-422f-45c0-a7df-66877e427e41",
   "metadata": {},
   "source": [
    "**convert tuple to list**"
   ]
  },
  {
   "cell_type": "code",
   "execution_count": 31,
   "id": "d251f784-5358-432e-bab3-4a4856a61149",
   "metadata": {},
   "outputs": [
    {
     "name": "stdout",
     "output_type": "stream",
     "text": [
      "<class 'tuple'>\n",
      "(1, 2, 3)\n",
      "<class 'list'>\n",
      "[1, 2, 3]\n",
      "<class 'tuple'>\n",
      "(1, 2, 3)\n"
     ]
    }
   ],
   "source": [
    "# to convert the list into tuple and tuple to list\n",
    "\n",
    "p=(1,2,3)\n",
    "print(type(p))                  #tuple -->list\n",
    "print(p)\n",
    "\n",
    "r=list(p)\n",
    "print(type(r))                  #list -->tuple\n",
    "print(r)\n",
    "\n",
    "n = tuple(r)\n",
    "print(type(n))                  #tuple -->list\n",
    "print(n)"
   ]
  },
  {
   "cell_type": "code",
   "execution_count": null,
   "id": "2f8ecdd2-80ac-4914-9e4c-2ddc028965cd",
   "metadata": {},
   "outputs": [],
   "source": []
  }
 ],
 "metadata": {
  "kernelspec": {
   "display_name": "Python 3 (ipykernel)",
   "language": "python",
   "name": "python3"
  },
  "language_info": {
   "codemirror_mode": {
    "name": "ipython",
    "version": 3
   },
   "file_extension": ".py",
   "mimetype": "text/x-python",
   "name": "python",
   "nbconvert_exporter": "python",
   "pygments_lexer": "ipython3",
   "version": "3.12.4"
  }
 },
 "nbformat": 4,
 "nbformat_minor": 5
}
