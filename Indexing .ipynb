{
 "cells": [
  {
   "cell_type": "markdown",
   "id": "78fb6683-11da-4057-a542-32b94e481507",
   "metadata": {},
   "source": [
    "# Indexing\n",
    "- To extract sngle character from string\n",
    "- Indexing start with zero"
   ]
  },
  {
   "cell_type": "markdown",
   "id": "43fcde64-58b6-499a-a713-a5a71ac7341b",
   "metadata": {},
   "source": [
    "### Syntax : Variable name[index number] "
   ]
  },
  {
   "cell_type": "code",
   "execution_count": 35,
   "id": "28f9c41d-fb3c-439e-b323-250b9f344e2c",
   "metadata": {},
   "outputs": [],
   "source": [
    "s = (\"welcome to naresh IT\") "
   ]
  },
  {
   "cell_type": "code",
   "execution_count": 5,
   "id": "bdcf8df8-efff-4a0f-b792-43a1f4cab4ca",
   "metadata": {},
   "outputs": [
    {
     "data": {
      "text/plain": [
       "20"
      ]
     },
     "execution_count": 5,
     "metadata": {},
     "output_type": "execute_result"
    }
   ],
   "source": [
    "len(s)                #this gives the count of negavtive index number"
   ]
  },
  {
   "cell_type": "code",
   "execution_count": 6,
   "id": "d8276f51-ee03-4738-8fcb-4f40a4345819",
   "metadata": {},
   "outputs": [
    {
     "name": "stdout",
     "output_type": "stream",
     "text": [
      "19\n"
     ]
    }
   ],
   "source": [
    "print(len(s) -1)       # This give the count of positive index number "
   ]
  },
  {
   "cell_type": "code",
   "execution_count": 7,
   "id": "6a2cedbf-059a-43ed-8be4-2a1dd7935a01",
   "metadata": {},
   "outputs": [
    {
     "data": {
      "text/plain": [
       "'c'"
      ]
     },
     "execution_count": 7,
     "metadata": {},
     "output_type": "execute_result"
    }
   ],
   "source": [
    "s[3]"
   ]
  },
  {
   "cell_type": "code",
   "execution_count": 9,
   "id": "28d3c70b-7085-4dae-a954-e9baec98c9f0",
   "metadata": {},
   "outputs": [
    {
     "data": {
      "text/plain": [
       "'c'"
      ]
     },
     "execution_count": 9,
     "metadata": {},
     "output_type": "execute_result"
    }
   ],
   "source": [
    "s[-17]"
   ]
  },
  {
   "cell_type": "code",
   "execution_count": null,
   "id": "39406efd-c370-4536-9176-de5be7174c78",
   "metadata": {},
   "outputs": [],
   "source": [
    "s[-22]           # will show the error as -22 value dowwn't exist"
   ]
  },
  {
   "cell_type": "code",
   "execution_count": null,
   "id": "c652ae6c-b651-4cdb-bc74-2e71a8f00230",
   "metadata": {},
   "outputs": [],
   "source": [
    "s[1.5]             #it gives an output only for int "
   ]
  },
  {
   "cell_type": "code",
   "execution_count": 12,
   "id": "20c1c06b-eca9-459b-ba0e-255bc8c56e72",
   "metadata": {},
   "outputs": [
    {
     "data": {
      "text/plain": [
       "'w'"
      ]
     },
     "execution_count": 12,
     "metadata": {},
     "output_type": "execute_result"
    }
   ],
   "source": [
    "s[0]           #will show the first character "
   ]
  },
  {
   "cell_type": "code",
   "execution_count": 13,
   "id": "1f0a3023-b267-40dd-9393-d8641b96f76a",
   "metadata": {},
   "outputs": [
    {
     "data": {
      "text/plain": [
       "'T'"
      ]
     },
     "execution_count": 13,
     "metadata": {},
     "output_type": "execute_result"
    }
   ],
   "source": [
    "s[-1]           #will show the last character other syntax s[len(s)-1]"
   ]
  },
  {
   "cell_type": "code",
   "execution_count": 14,
   "id": "7ebe6f41-e106-4900-80dd-935208d8492d",
   "metadata": {},
   "outputs": [
    {
     "data": {
      "text/plain": [
       "'T'"
      ]
     },
     "execution_count": 14,
     "metadata": {},
     "output_type": "execute_result"
    }
   ],
   "source": [
    "s[len(s)-1]"
   ]
  }
 ],
 "metadata": {
  "kernelspec": {
   "display_name": "Python 3 (ipykernel)",
   "language": "python",
   "name": "python3"
  },
  "language_info": {
   "codemirror_mode": {
    "name": "ipython",
    "version": 3
   },
   "file_extension": ".py",
   "mimetype": "text/x-python",
   "name": "python",
   "nbconvert_exporter": "python",
   "pygments_lexer": "ipython3",
   "version": "3.12.4"
  }
 },
 "nbformat": 4,
 "nbformat_minor": 5
}
