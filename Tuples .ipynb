{
 "cells": [
  {
   "cell_type": "markdown",
   "id": "8a255036-1093-4c94-a802-5009d8715f82",
   "metadata": {},
   "source": [
    "# Tuple()"
   ]
  },
  {
   "cell_type": "markdown",
   "id": "c26f03db-863b-4792-9210-49e1c5918c99",
   "metadata": {},
   "source": [
    "**Empty Tuple**"
   ]
  },
  {
   "cell_type": "code",
   "execution_count": 1,
   "id": "b76792ec-facb-41b1-8ab3-b86ebc0800fc",
   "metadata": {},
   "outputs": [
    {
     "name": "stdout",
     "output_type": "stream",
     "text": [
      "()\n"
     ]
    },
    {
     "data": {
      "text/plain": [
       "tuple"
      ]
     },
     "execution_count": 1,
     "metadata": {},
     "output_type": "execute_result"
    }
   ],
   "source": [
    "l=()\n",
    "print(l)\n",
    "type(l)"
   ]
  },
  {
   "cell_type": "markdown",
   "id": "c6105be2-e22d-43ac-8728-3b0ad4ec5ca6",
   "metadata": {},
   "source": [
    "**Tuple Indexing**"
   ]
  },
  {
   "cell_type": "code",
   "execution_count": 3,
   "id": "6e032c8e-c74a-422b-bb4f-d0abc7de5a8a",
   "metadata": {},
   "outputs": [
    {
     "name": "stdout",
     "output_type": "stream",
     "text": [
      "<class 'tuple'>\n"
     ]
    }
   ],
   "source": [
    "tup= (\"siva\",25,25.0, True, [50,(10,100)])\n",
    "print(type(tup))"
   ]
  },
  {
   "cell_type": "code",
   "execution_count": 4,
   "id": "80ee6b97-f1d5-4410-b0f9-a8762d0b25c9",
   "metadata": {},
   "outputs": [
    {
     "name": "stdout",
     "output_type": "stream",
     "text": [
      "<class 'list'>\n"
     ]
    }
   ],
   "source": [
    "print(type(tup[-1]))                  # Tup[-1] is [50,(10,100)]"
   ]
  },
  {
   "cell_type": "code",
   "execution_count": 5,
   "id": "0859e793-f8cd-49eb-b9d7-a4aafe83a44e",
   "metadata": {},
   "outputs": [
    {
     "data": {
      "text/plain": [
       "[50, (10, 100)]"
      ]
     },
     "execution_count": 5,
     "metadata": {},
     "output_type": "execute_result"
    }
   ],
   "source": [
    "tup[-1]"
   ]
  },
  {
   "cell_type": "markdown",
   "id": "05ff1033-e12a-4f6d-ba05-37ca220617d9",
   "metadata": {},
   "source": [
    "**Tuple Slicing**"
   ]
  },
  {
   "cell_type": "code",
   "execution_count": 11,
   "id": "b631db8b-bc3c-45b0-9e56-3715c2129c85",
   "metadata": {},
   "outputs": [
    {
     "data": {
      "text/plain": [
       "('siva', 25, 25.0, True)"
      ]
     },
     "execution_count": 11,
     "metadata": {},
     "output_type": "execute_result"
    }
   ],
   "source": [
    "tup= (\"siva\",25,25.0, True, [50,(10,100)]) \n",
    "tup[0:4]"
   ]
  },
  {
   "cell_type": "code",
   "execution_count": 12,
   "id": "efe8fa6b-d72e-4ed3-8c69-ddf5a43d47c3",
   "metadata": {},
   "outputs": [
    {
     "data": {
      "text/plain": [
       "([50, (10, 100)], True, 25.0, 25, 'siva')"
      ]
     },
     "execution_count": 12,
     "metadata": {},
     "output_type": "execute_result"
    }
   ],
   "source": [
    "tup[::-1]                       # reverse dirn"
   ]
  },
  {
   "cell_type": "code",
   "execution_count": 13,
   "id": "78c2f9c8-c209-4407-830e-6c3a511b8588",
   "metadata": {},
   "outputs": [
    {
     "data": {
      "text/plain": [
       "(25, 25.0)"
      ]
     },
     "execution_count": 13,
     "metadata": {},
     "output_type": "execute_result"
    }
   ],
   "source": [
    "tup[1:3]"
   ]
  },
  {
   "cell_type": "code",
   "execution_count": null,
   "id": "2f8ecdd2-80ac-4914-9e4c-2ddc028965cd",
   "metadata": {},
   "outputs": [],
   "source": []
  }
 ],
 "metadata": {
  "kernelspec": {
   "display_name": "Python 3 (ipykernel)",
   "language": "python",
   "name": "python3"
  },
  "language_info": {
   "codemirror_mode": {
    "name": "ipython",
    "version": 3
   },
   "file_extension": ".py",
   "mimetype": "text/x-python",
   "name": "python",
   "nbconvert_exporter": "python",
   "pygments_lexer": "ipython3",
   "version": "3.12.4"
  }
 },
 "nbformat": 4,
 "nbformat_minor": 5
}
