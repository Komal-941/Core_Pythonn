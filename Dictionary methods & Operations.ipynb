{
 "cells": [
  {
   "cell_type": "markdown",
   "id": "75de7b51-9903-4500-80a4-75129b597089",
   "metadata": {},
   "source": [
    "# dict methods"
   ]
  },
  {
   "cell_type": "code",
   "execution_count": 28,
   "id": "4c965313-614e-4cf4-b69a-882f36dc9c07",
   "metadata": {},
   "outputs": [
    {
     "data": {
      "text/plain": [
       "{'history': 45, 'Hindi': 56, 'English': 56}"
      ]
     },
     "execution_count": 28,
     "metadata": {},
     "output_type": "execute_result"
    }
   ],
   "source": [
    "marks = {\"history\":45,\"Hindi\":56 ,\"English\" :56 }  #in case of duplicate values; no issue will be created\n",
    "marks"
   ]
  },
  {
   "cell_type": "markdown",
   "id": "d3c224ab-fb24-44e6-ab06-c524d6538d15",
   "metadata": {},
   "source": [
    "**1.dict.items()** \n",
    "- return the key: value pair present in dict in format of list of tuple"
   ]
  },
  {
   "cell_type": "code",
   "execution_count": 29,
   "id": "bf45d016-31af-44a4-9639-3c5ec75f2490",
   "metadata": {},
   "outputs": [],
   "source": [
    "marks = {\"history\":45,\"Hindi\":56 ,\"English\" :56 } "
   ]
  },
  {
   "cell_type": "code",
   "execution_count": 33,
   "id": "d602d65b-5511-4319-850c-6670025ab129",
   "metadata": {},
   "outputs": [
    {
     "data": {
      "text/plain": [
       "dict_items([('history', 45), ('Hindi', 56), ('English', 56)])"
      ]
     },
     "execution_count": 33,
     "metadata": {},
     "output_type": "execute_result"
    }
   ],
   "source": [
    "marks.items()"
   ]
  },
  {
   "cell_type": "markdown",
   "id": "50931ba7-52b4-4652-9751-6095d4fdd64f",
   "metadata": {},
   "source": [
    "**2.dict.keys()** \n",
    "- return the keys in dict"
   ]
  },
  {
   "cell_type": "code",
   "execution_count": 34,
   "id": "00e84664-d8fa-4741-8751-c64cd0b89585",
   "metadata": {},
   "outputs": [
    {
     "data": {
      "text/plain": [
       "dict_keys(['history', 'Hindi', 'English'])"
      ]
     },
     "execution_count": 34,
     "metadata": {},
     "output_type": "execute_result"
    }
   ],
   "source": [
    "marks.keys()"
   ]
  },
  {
   "cell_type": "markdown",
   "id": "a6546c75-5bef-403a-975f-2fdd55a5231a",
   "metadata": {},
   "source": [
    "**3.dict.values()** \n",
    "- return the values in dict"
   ]
  },
  {
   "cell_type": "code",
   "execution_count": 35,
   "id": "f9db7f02-e089-45f6-b380-5bb9f5ad414b",
   "metadata": {},
   "outputs": [
    {
     "data": {
      "text/plain": [
       "dict_values([45, 56, 56])"
      ]
     },
     "execution_count": 35,
     "metadata": {},
     "output_type": "execute_result"
    }
   ],
   "source": [
    "marks.values()"
   ]
  },
  {
   "cell_type": "markdown",
   "id": "f14fee87-a5f8-4feb-a921-3e346694465e",
   "metadata": {},
   "source": [
    "# Dict Operation"
   ]
  },
  {
   "cell_type": "markdown",
   "id": "d17aa88e-8a4f-4d6d-ada4-79ab12d16573",
   "metadata": {},
   "source": [
    "**adding single or Multiple value** \n"
   ]
  },
  {
   "cell_type": "code",
   "execution_count": 37,
   "id": "fa821600-9367-4cd1-93dc-8f14b46b0f67",
   "metadata": {},
   "outputs": [
    {
     "data": {
      "text/plain": [
       "{'history': 45, 'Hindi': 56, 'eng': 78}"
      ]
     },
     "execution_count": 37,
     "metadata": {},
     "output_type": "execute_result"
    }
   ],
   "source": [
    "marks = {\"history\":45,\"Hindi\":56 }  \n",
    "marks.update({\"eng\":78}) \n",
    "marks"
   ]
  },
  {
   "cell_type": "code",
   "execution_count": 38,
   "id": "c3118b3b-6d5e-4fee-a610-c89caab589d0",
   "metadata": {},
   "outputs": [
    {
     "data": {
      "text/plain": [
       "{'history': 45, 'Hindi': 56, 'eng': 78, 23: 67, 'Ks': 34.87, 67.9: True}"
      ]
     },
     "execution_count": 38,
     "metadata": {},
     "output_type": "execute_result"
    }
   ],
   "source": [
    "marks.update({23:67, \"Ks\":34.87 , 67.9:True}) \n",
    "marks"
   ]
  },
  {
   "cell_type": "markdown",
   "id": "7c860871-bac9-48f8-8763-ed408a6f9083",
   "metadata": {},
   "source": [
    "**deleting the values** \n",
    "- syn : del[dictkey]"
   ]
  },
  {
   "cell_type": "code",
   "execution_count": 1,
   "id": "e9bdf79f-9e25-4d85-9bbe-aaeedffc913d",
   "metadata": {},
   "outputs": [
    {
     "name": "stdout",
     "output_type": "stream",
     "text": [
      "{'history': 45, 'eng': 78, 23: 67, 'Ks': 34.87, 67.9: True}\n"
     ]
    }
   ],
   "source": [
    "marks = {'history': 45, 'Hindi': 56, 'eng': 78, 23: 67, 'Ks': 34.87, 67.9: True} \n",
    "del marks[\"Hindi\"]\n",
    "print(marks)"
   ]
  },
  {
   "cell_type": "markdown",
   "id": "dc7a1946-a516-44ab-9e81-d509fffe4f31",
   "metadata": {},
   "source": [
    "**dict.clear**"
   ]
  },
  {
   "cell_type": "code",
   "execution_count": 53,
   "id": "623c12c6-caf1-47d9-8579-e26f565b9915",
   "metadata": {},
   "outputs": [
    {
     "data": {
      "text/plain": [
       "{}"
      ]
     },
     "execution_count": 53,
     "metadata": {},
     "output_type": "execute_result"
    }
   ],
   "source": [
    "marks = {'history': 45, 'Hindi': 56, 'eng': 78}  \n",
    "marks.clear()\n",
    "marks"
   ]
  },
  {
   "cell_type": "markdown",
   "id": "8e91113c-76a4-4eb6-a74f-21aa2ae9c038",
   "metadata": {},
   "source": [
    "**dict.copy**"
   ]
  },
  {
   "cell_type": "code",
   "execution_count": 55,
   "id": "55822335-ff6e-4bab-aa3b-2ae7b561cd8d",
   "metadata": {},
   "outputs": [
    {
     "name": "stdout",
     "output_type": "stream",
     "text": [
      "{'history': 45, 'Hindi': 56, 'eng': 78}\n"
     ]
    },
    {
     "data": {
      "text/plain": [
       "{'history': 45, 'Hindi': 56, 'eng': 78, 'chem': 90}"
      ]
     },
     "execution_count": 55,
     "metadata": {},
     "output_type": "execute_result"
    }
   ],
   "source": [
    "marks = {'history': 45, 'Hindi': 56, 'eng': 78}  \n",
    "new_marks = marks.copy() \n",
    "\n",
    "new_marks.update({\"chem\": 90}) \n",
    "print(marks)\n",
    "new_marks"
   ]
  },
  {
   "cell_type": "markdown",
   "id": "b216c811-46ce-4a54-ac65-395958a73ddd",
   "metadata": {},
   "source": [
    "**replacing Values**"
   ]
  },
  {
   "cell_type": "code",
   "execution_count": 57,
   "id": "646c29c8-ab5b-4462-aa43-83cb70061a2f",
   "metadata": {},
   "outputs": [
    {
     "data": {
      "text/plain": [
       "{'history': 45, 'Hindi': 76, 'eng': 78}"
      ]
     },
     "execution_count": 57,
     "metadata": {},
     "output_type": "execute_result"
    }
   ],
   "source": [
    "marks = {'history': 45, 'Hindi': 56, 'eng': 78} \n",
    "marks['Hindi'] = 76\n",
    "marks"
   ]
  },
  {
   "cell_type": "markdown",
   "id": "25f58175-a3f9-4b5b-9579-5244b1f5b959",
   "metadata": {},
   "source": [
    "**replacing keys**"
   ]
  },
  {
   "cell_type": "code",
   "execution_count": 3,
   "id": "b9731380-e639-4a03-8523-f0ace3ab5b58",
   "metadata": {},
   "outputs": [
    {
     "data": {
      "text/plain": [
       "90"
      ]
     },
     "execution_count": 3,
     "metadata": {},
     "output_type": "execute_result"
    }
   ],
   "source": [
    "d ={\"Ks\":43,\"Sk\":90,\"hs\":65}\n",
    "d.pop(\"Sk\")"
   ]
  },
  {
   "cell_type": "code",
   "execution_count": null,
   "id": "27663159-45a2-4722-a2bc-a74075b80064",
   "metadata": {},
   "outputs": [],
   "source": []
  }
 ],
 "metadata": {
  "kernelspec": {
   "display_name": "Python 3 (ipykernel)",
   "language": "python",
   "name": "python3"
  },
  "language_info": {
   "codemirror_mode": {
    "name": "ipython",
    "version": 3
   },
   "file_extension": ".py",
   "mimetype": "text/x-python",
   "name": "python",
   "nbconvert_exporter": "python",
   "pygments_lexer": "ipython3",
   "version": "3.12.4"
  }
 },
 "nbformat": 4,
 "nbformat_minor": 5
}
